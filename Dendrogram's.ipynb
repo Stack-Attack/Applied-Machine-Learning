{
 "cells": [
  {
   "cell_type": "code",
   "execution_count": 2,
   "metadata": {},
   "outputs": [],
   "source": [
    "import numpy as np\n",
    "from scipy.spatial.distance import euclidean, pdist, squareform\n",
    "from scipy.cluster import hierarchy\n",
    "import pandas as pd\n",
    "import io\n",
    "import matplotlib.pyplot as plt"
   ]
  },
  {
   "cell_type": "code",
   "execution_count": 3,
   "metadata": {},
   "outputs": [],
   "source": [
    "def convertToLaTeX(df, alignment=\"c\"):\n",
    "    \"\"\"\n",
    "    Convert a pandas dataframe to a LaTeX tabular.\n",
    "    Prints labels in bold, does not use math mode\n",
    "    \"\"\"\n",
    "    numColumns = df.shape[1]\n",
    "    numRows = df.shape[0]\n",
    "    output = io.StringIO()\n",
    "    colFormat = (\"%s|%s\" % (alignment, alignment * numColumns))\n",
    "    #Write header\n",
    "    output.write(\"\\\\begin{tabular}{%s}\\n\" % colFormat)\n",
    "    columnLabels = [\"\\\\textbf{%s}\" % label for label in df.columns]\n",
    "    output.write(\"& %s\\\\\\\\\\\\hline\\n\" % \" & \".join(columnLabels))\n",
    "    #Write data lines\n",
    "    for i in range(numRows):\n",
    "        output.write(\"\\\\textbf{%s} & %s\\\\\\\\\\n\"\n",
    "                     % (df.index[i], \" & \".join([str(val) for val in df.ix[i]])))\n",
    "    #Write footer\n",
    "    output.write(\"\\\\end{tabular}\")\n",
    "    return output.getvalue()"
   ]
  },
  {
   "cell_type": "code",
   "execution_count": 4,
   "metadata": {
    "scrolled": false
   },
   "outputs": [
    {
     "name": "stdout",
     "output_type": "stream",
     "text": [
      "\\begin{tabular}{c|cccccc}\n",
      "& \\textbf{Z} & \\textbf{H} & \\textbf{T} & \\textbf{L} & \\textbf{D} & \\textbf{C}\\\\\\hline\n",
      "\\textbf{Z} & 0.0 & 6.934 & 4.586 & 9.51 & 10.543 & 4.88\\\\\n",
      "\\textbf{H} & 6.934 & 0.0 & 2.627 & 7.377 & 4.951 & 3.11\\\\\n",
      "\\textbf{T} & 4.586 & 2.627 & 0.0 & 7.375 & 6.451 & 1.726\\\\\n",
      "\\textbf{L} & 9.51 & 7.377 & 7.375 & 0.0 & 5.076 & 5.807\\\\\n",
      "\\textbf{D} & 10.543 & 4.951 & 6.451 & 5.076 & 0.0 & 5.707\\\\\n",
      "\\textbf{C} & 4.88 & 3.11 & 1.726 & 5.807 & 5.707 & 0.0\\\\\n",
      "\\end{tabular}\n"
     ]
    },
    {
     "name": "stderr",
     "output_type": "stream",
     "text": [
      "c:\\users\\k33robin\\appdata\\local\\programs\\python\\python37\\lib\\site-packages\\ipykernel_launcher.py:17: DeprecationWarning: \n",
      ".ix is deprecated. Please use\n",
      ".loc for label based indexing or\n",
      ".iloc for positional indexing\n",
      "\n",
      "See the documentation here:\n",
      "http://pandas.pydata.org/pandas-docs/stable/indexing.html#ix-indexer-is-deprecated\n"
     ]
    }
   ],
   "source": [
    "Z = np.array([3.28,12.59,8.4,1.31])\n",
    "H = np.array([2.78,5.89,10.1,1.52])\n",
    "T = np.array([2.23,8.29,9.5,0.83])\n",
    "L = np.array([1.02,5.11,2.98,1.38])\n",
    "D = np.array([0.84,2.41,7.24,0.84])\n",
    "C = np.array([2.45,7.85,7.85,0.71])\n",
    "\n",
    "df = pd.DataFrame.from_dict({'Z':Z,\"H\":H,\"T\":T,\"L\":L,'D':D,'C':C})\n",
    "df.index = [\"cap\",\"cin\",\"win\",'gas']\n",
    "df\n",
    "\n",
    "\n",
    "df2 = pd.DataFrame(squareform(pdist(df.transpose(), metric='euclidean')), columns=df.columns, index=df.columns)\n",
    "print(convertToLaTeX(df2.applymap(lambda x: round(x,3))))"
   ]
  },
  {
   "cell_type": "code",
   "execution_count": null,
   "metadata": {},
   "outputs": [],
   "source": []
  },
  {
   "cell_type": "code",
   "execution_count": 5,
   "metadata": {
    "scrolled": false
   },
   "outputs": [
    {
     "data": {
      "text/plain": [
       "<Figure size 432x288 with 0 Axes>"
      ]
     },
     "metadata": {},
     "output_type": "display_data"
    },
    {
     "data": {
      "image/png": "[encoded data removed]",
      "text/plain": [
       "<Figure size 360x360 with 1 Axes>"
      ]
     },
     "metadata": {
      "needs_background": "light"
     },
     "output_type": "display_data"
    }
   ],
   "source": [
    "ytdist = np.array([1.726, 2.627, 4.586, 4.951, 5.076, 9, 10, 11, 12, 13, 14, 12, 13, 14, 15])\n",
    "Z = hierarchy.linkage(ytdist, 'single')\n",
    "plt.figure()\n",
    "hierarchy.set_link_color_palette(['b'])\n",
    "fig, axes = plt.subplots(figsize=(5, 5))\n",
    "dn = hierarchy.dendrogram(Z, labels=['T','C','H','Z','D','L'])\n",
    "plt.savefig(\"Q1_5.pdf\")\n"
   ]
  }
 ],
 "metadata": {
  "kernelspec": {
   "display_name": "Python 3",
   "language": "python",
   "name": "python3"
  },
  "language_info": {
   "codemirror_mode": {
    "name": "ipython",
    "version": 3
   },
   "file_extension": ".py",
   "mimetype": "text/x-python",
   "name": "python",
   "nbconvert_exporter": "python",
   "pygments_lexer": "ipython3",
   "version": "3.7.2"
  }
 },
 "nbformat": 4,
 "nbformat_minor": 2
}
