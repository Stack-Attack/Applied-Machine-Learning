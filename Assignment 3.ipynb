{
 "cells": [
  {
   "cell_type": "code",
   "execution_count": 82,
   "metadata": {},
   "outputs": [],
   "source": [
    "import numpy as np\n",
    "import pandas as pd\n",
    "import math\n",
    "import random\n",
    "from sklearn.feature_extraction.text import CountVectorizer\n",
    "from sklearn.utils import shuffle\n",
    "from sklearn.svm import SVC, LinearSVC\n",
    "from sklearn.tree import DecisionTreeClassifier\n",
    "from sklearn.neighbors import KNeighborsClassifier\n",
    "from collections import OrderedDict\n",
    "import time\n"
   ]
  },
  {
   "cell_type": "code",
   "execution_count": 83,
   "metadata": {
    "scrolled": true
   },
   "outputs": [],
   "source": [
    "#Stores filenames for import\n",
    "files = []\n",
    "\n",
    "#Creates lists of filesnames for import\n",
    "for i in range(1000):\n",
    "    files.append('review_polarity/txt_sentoken/pos/t ('+str(i+1)+').txt')\n",
    "    files.append('review_polarity/txt_sentoken/neg/f ('+str(i+1)+').txt')\n",
    "\n",
    "#Load data into a data frame using a CountVectorizer\n",
    "vectorizor = CountVectorizer(input='filename', stop_words='english')\n",
    "data = vectorizor.fit_transform(files)\n",
    "data = pd.DataFrame(data.todense(), columns=vectorizor.get_feature_names())\n",
    "\n",
    "#Assign labels to dataframe based on import order\n",
    "data['label'] = ['pos']*1000 + ['neg']*1000\n",
    "\n",
    "#Shuffle the data\n",
    "data = shuffle(data)\n",
    "\n",
    "#Split data\n",
    "test_data = data.tail(400).reset_index(drop=True)\n",
    "T = data.iloc[0:100].reset_index(drop=True)\n",
    "T_r = data.tail(1500).reset_index(drop=True)"
   ]
  },
  {
   "cell_type": "markdown",
   "metadata": {},
   "source": [
    "# (i)"
   ]
  },
  {
   "cell_type": "markdown",
   "metadata": {},
   "source": [
    "## Uncertainty Sampling"
   ]
  },
  {
   "cell_type": "code",
   "execution_count": 86,
   "metadata": {
    "scrolled": true
   },
   "outputs": [
    {
     "name": "stdout",
     "output_type": "stream",
     "text": [
      "Samples:100\n",
      "1.4791419506072998\n",
      "Samples:110\n",
      "1.4871423244476318\n",
      "Samples:120\n",
      "1.5150036811828613\n",
      "Samples:130\n",
      "1.5482850074768066\n",
      "Samples:140\n",
      "1.4720675945281982\n",
      "Samples:150\n",
      "1.4819364547729492\n",
      "Samples:160\n",
      "1.4754290580749512\n",
      "Samples:170\n",
      "1.4985401630401611\n",
      "Samples:180\n",
      "1.4986097812652588\n",
      "Samples:190\n",
      "1.4633691310882568\n",
      "Samples:200\n",
      "1.4701919555664062\n",
      "Samples:210\n",
      "1.4514193534851074\n",
      "Samples:220\n",
      "1.4768390655517578\n",
      "Samples:230\n",
      "1.4660060405731201\n",
      "Samples:240\n",
      "1.4979064464569092\n",
      "Samples:250\n",
      "1.481560230255127\n",
      "Samples:260\n",
      "1.5148253440856934\n",
      "Samples:270\n",
      "1.5107409954071045\n",
      "Samples:280\n",
      "1.4967007637023926\n",
      "Samples:290\n",
      "1.5227530002593994\n",
      "Samples:300\n",
      "1.5299441814422607\n",
      "Samples:310\n",
      "1.5327918529510498\n",
      "Samples:320\n",
      "1.619680643081665\n",
      "Samples:330\n",
      "1.5500006675720215\n",
      "Samples:340\n",
      "1.5774900913238525\n",
      "Samples:350\n",
      "1.6822597980499268\n",
      "Samples:360\n",
      "1.6947550773620605\n",
      "Samples:370\n",
      "1.7932775020599365\n",
      "Samples:380\n",
      "1.6781997680664062\n",
      "Samples:390\n",
      "2.055968999862671\n",
      "Samples:400\n",
      "1.7181649208068848\n",
      "Samples:410\n",
      "1.574944019317627\n",
      "Samples:420\n",
      "1.7355575561523438\n",
      "Samples:430\n",
      "1.691399097442627\n",
      "Samples:440\n",
      "1.7246806621551514\n",
      "Samples:450\n",
      "1.7638187408447266\n",
      "Samples:460\n",
      "1.6314277648925781\n",
      "Samples:470\n",
      "1.672623634338379\n",
      "Samples:480\n",
      "1.8676233291625977\n",
      "Samples:490\n",
      "1.7928369045257568\n",
      "Samples:500\n",
      "1.7566494941711426\n",
      "Samples:510\n",
      "1.9563665390014648\n",
      "Samples:520\n",
      "1.894146203994751\n",
      "Samples:530\n",
      "1.669961929321289\n",
      "Samples:540\n",
      "1.8330044746398926\n",
      "Samples:550\n",
      "1.9551804065704346\n",
      "Samples:560\n",
      "1.7624506950378418\n",
      "Samples:570\n",
      "1.7055013179779053\n",
      "Samples:580\n",
      "1.6820628643035889\n",
      "Samples:590\n",
      "1.6882314682006836\n",
      "Samples:600\n",
      "1.7141008377075195\n",
      "Samples:610\n",
      "1.8729379177093506\n",
      "Samples:620\n",
      "1.8201420307159424\n",
      "Samples:630\n",
      "1.7183709144592285\n",
      "Samples:640\n",
      "1.891603708267212\n",
      "Samples:650\n",
      "1.868556022644043\n",
      "Samples:660\n",
      "1.8271112442016602\n",
      "Samples:670\n",
      "1.8275387287139893\n",
      "Samples:680\n",
      "1.816709280014038\n",
      "Samples:690\n",
      "1.7356626987457275\n",
      "Samples:700\n",
      "1.7502803802490234\n",
      "Samples:710\n",
      "1.7714076042175293\n",
      "Samples:720\n",
      "1.9303557872772217\n",
      "Samples:730\n",
      "1.8692996501922607\n",
      "Samples:740\n",
      "1.9197678565979004\n",
      "Samples:750\n",
      "3.0921285152435303\n",
      "Samples:760\n",
      "2.933897018432617\n",
      "Samples:770\n",
      "2.963524103164673\n",
      "Samples:780\n",
      "3.1470751762390137\n",
      "Samples:790\n",
      "3.10443377494812\n",
      "Samples:800\n",
      "3.147848606109619\n",
      "Samples:810\n",
      "2.9530832767486572\n",
      "Samples:820\n",
      "3.1466784477233887\n",
      "Samples:830\n",
      "3.074185371398926\n",
      "Samples:840\n",
      "2.972952127456665\n",
      "Samples:850\n",
      "3.381040096282959\n",
      "Samples:860\n",
      "3.1435346603393555\n",
      "Samples:870\n",
      "3.061361074447632\n",
      "Samples:880\n",
      "3.4051647186279297\n",
      "Samples:890\n",
      "3.2121903896331787\n",
      "Samples:900\n",
      "3.58543062210083\n",
      "Samples:910\n",
      "3.200984477996826\n",
      "Samples:920\n",
      "3.6046440601348877\n",
      "Samples:930\n",
      "3.448406219482422\n",
      "Samples:940\n",
      "3.171312093734741\n",
      "Samples:950\n",
      "3.3267982006073\n",
      "Samples:960\n",
      "3.5950989723205566\n",
      "Samples:970\n",
      "3.5192768573760986\n",
      "Samples:980\n",
      "3.5771756172180176\n",
      "Samples:990\n",
      "3.5234150886535645\n",
      "Samples:1000\n",
      "3.6695663928985596\n",
      "Samples:1010\n",
      "3.5346322059631348\n",
      "Samples:1020\n",
      "5.258857011795044\n",
      "Samples:1030\n",
      "4.40205979347229\n",
      "Samples:1040\n",
      "4.873533487319946\n",
      "Samples:1050\n",
      "4.914016485214233\n",
      "Samples:1060\n",
      "5.200265645980835\n",
      "Samples:1070\n",
      "5.135409116744995\n",
      "Samples:1080\n",
      "4.979431390762329\n",
      "Samples:1090\n",
      "4.67152214050293\n",
      "Samples:1100\n",
      "4.9551918506622314\n",
      "Samples:1110\n",
      "4.836942195892334\n",
      "Samples:1120\n",
      "4.759500026702881\n",
      "Samples:1130\n",
      "4.632163763046265\n",
      "Samples:1140\n",
      "4.693578243255615\n",
      "Samples:1150\n",
      "4.769057989120483\n",
      "Samples:1160\n",
      "4.7432873249053955\n",
      "Samples:1170\n",
      "4.755118131637573\n",
      "Samples:1180\n",
      "4.765757083892822\n",
      "Samples:1190\n",
      "4.868210077285767\n",
      "Samples:1200\n",
      "4.939026832580566\n",
      "Samples:1210\n",
      "4.95150899887085\n",
      "Samples:1220\n",
      "4.953276872634888\n",
      "Samples:1230\n",
      "5.41389274597168\n",
      "Samples:1240\n",
      "5.094841718673706\n",
      "Samples:1250\n",
      "5.521426677703857\n",
      "Samples:1260\n",
      "5.07152247428894\n",
      "Samples:1270\n",
      "5.766914367675781\n",
      "Samples:1280\n",
      "5.4203715324401855\n",
      "Samples:1290\n",
      "5.2662365436553955\n",
      "Samples:1300\n",
      "5.22698974609375\n",
      "Samples:1310\n",
      "5.253810405731201\n",
      "Samples:1320\n",
      "5.451699733734131\n",
      "Samples:1330\n",
      "5.374791383743286\n",
      "Samples:1340\n",
      "5.517513751983643\n",
      "Samples:1350\n",
      "6.032100677490234\n",
      "Samples:1360\n",
      "5.495030879974365\n",
      "Samples:1370\n",
      "5.791982650756836\n",
      "Samples:1380\n",
      "5.785698890686035\n",
      "Samples:1390\n",
      "5.982816457748413\n",
      "Samples:1400\n",
      "5.892961025238037\n",
      "Samples:1410\n",
      "5.993922710418701\n",
      "Samples:1420\n",
      "6.2171854972839355\n",
      "Samples:1430\n",
      "5.859348773956299\n",
      "Samples:1440\n",
      "5.936422348022461\n",
      "Samples:1450\n",
      "6.3736207485198975\n",
      "Samples:1460\n",
      "5.808958053588867\n"
     ]
    },
    {
     "name": "stderr",
     "output_type": "stream",
     "text": [
      "c:\\users\\k33robin\\appdata\\local\\programs\\python\\python37\\lib\\site-packages\\sklearn\\svm\\base.py:931: ConvergenceWarning: Liblinear failed to converge, increase the number of iterations.\n",
      "  \"the number of iterations.\", ConvergenceWarning)\n"
     ]
    },
    {
     "name": "stdout",
     "output_type": "stream",
     "text": [
      "Samples:1470\n",
      "13.376246213912964\n"
     ]
    },
    {
     "name": "stderr",
     "output_type": "stream",
     "text": [
      "c:\\users\\k33robin\\appdata\\local\\programs\\python\\python37\\lib\\site-packages\\sklearn\\svm\\base.py:931: ConvergenceWarning: Liblinear failed to converge, increase the number of iterations.\n",
      "  \"the number of iterations.\", ConvergenceWarning)\n"
     ]
    },
    {
     "name": "stdout",
     "output_type": "stream",
     "text": [
      "Samples:1480\n",
      "11.44958233833313\n"
     ]
    },
    {
     "name": "stderr",
     "output_type": "stream",
     "text": [
      "c:\\users\\k33robin\\appdata\\local\\programs\\python\\python37\\lib\\site-packages\\sklearn\\svm\\base.py:931: ConvergenceWarning: Liblinear failed to converge, increase the number of iterations.\n",
      "  \"the number of iterations.\", ConvergenceWarning)\n"
     ]
    },
    {
     "name": "stdout",
     "output_type": "stream",
     "text": [
      "Samples:1490\n",
      "14.519793272018433\n"
     ]
    },
    {
     "name": "stderr",
     "output_type": "stream",
     "text": [
      "c:\\users\\k33robin\\appdata\\local\\programs\\python\\python37\\lib\\site-packages\\sklearn\\svm\\base.py:931: ConvergenceWarning: Liblinear failed to converge, increase the number of iterations.\n",
      "  \"the number of iterations.\", ConvergenceWarning)\n"
     ]
    },
    {
     "name": "stdout",
     "output_type": "stream",
     "text": [
      "Samples:1500\n",
      "14.939351797103882\n"
     ]
    },
    {
     "name": "stderr",
     "output_type": "stream",
     "text": [
      "c:\\users\\k33robin\\appdata\\local\\programs\\python\\python37\\lib\\site-packages\\sklearn\\svm\\base.py:931: ConvergenceWarning: Liblinear failed to converge, increase the number of iterations.\n",
      "  \"the number of iterations.\", ConvergenceWarning)\n"
     ]
    },
    {
     "name": "stdout",
     "output_type": "stream",
     "text": [
      "Samples:1510\n",
      "14.789451837539673\n"
     ]
    },
    {
     "name": "stderr",
     "output_type": "stream",
     "text": [
      "c:\\users\\k33robin\\appdata\\local\\programs\\python\\python37\\lib\\site-packages\\sklearn\\svm\\base.py:931: ConvergenceWarning: Liblinear failed to converge, increase the number of iterations.\n",
      "  \"the number of iterations.\", ConvergenceWarning)\n"
     ]
    },
    {
     "name": "stdout",
     "output_type": "stream",
     "text": [
      "Samples:1520\n",
      "14.462839365005493\n"
     ]
    },
    {
     "name": "stderr",
     "output_type": "stream",
     "text": [
      "c:\\users\\k33robin\\appdata\\local\\programs\\python\\python37\\lib\\site-packages\\sklearn\\svm\\base.py:931: ConvergenceWarning: Liblinear failed to converge, increase the number of iterations.\n",
      "  \"the number of iterations.\", ConvergenceWarning)\n"
     ]
    },
    {
     "name": "stdout",
     "output_type": "stream",
     "text": [
      "Samples:1530\n",
      "14.445672512054443\n"
     ]
    },
    {
     "name": "stderr",
     "output_type": "stream",
     "text": [
      "c:\\users\\k33robin\\appdata\\local\\programs\\python\\python37\\lib\\site-packages\\sklearn\\svm\\base.py:931: ConvergenceWarning: Liblinear failed to converge, increase the number of iterations.\n",
      "  \"the number of iterations.\", ConvergenceWarning)\n"
     ]
    },
    {
     "name": "stdout",
     "output_type": "stream",
     "text": [
      "Samples:1540\n",
      "14.779645442962646\n"
     ]
    },
    {
     "name": "stderr",
     "output_type": "stream",
     "text": [
      "c:\\users\\k33robin\\appdata\\local\\programs\\python\\python37\\lib\\site-packages\\sklearn\\svm\\base.py:931: ConvergenceWarning: Liblinear failed to converge, increase the number of iterations.\n",
      "  \"the number of iterations.\", ConvergenceWarning)\n"
     ]
    },
    {
     "name": "stdout",
     "output_type": "stream",
     "text": [
      "Samples:1550\n",
      "14.671245098114014\n"
     ]
    },
    {
     "name": "stderr",
     "output_type": "stream",
     "text": [
      "c:\\users\\k33robin\\appdata\\local\\programs\\python\\python37\\lib\\site-packages\\sklearn\\svm\\base.py:931: ConvergenceWarning: Liblinear failed to converge, increase the number of iterations.\n",
      "  \"the number of iterations.\", ConvergenceWarning)\n"
     ]
    },
    {
     "name": "stdout",
     "output_type": "stream",
     "text": [
      "Samples:1560\n",
      "15.17475175857544\n"
     ]
    },
    {
     "name": "stderr",
     "output_type": "stream",
     "text": [
      "c:\\users\\k33robin\\appdata\\local\\programs\\python\\python37\\lib\\site-packages\\sklearn\\svm\\base.py:931: ConvergenceWarning: Liblinear failed to converge, increase the number of iterations.\n",
      "  \"the number of iterations.\", ConvergenceWarning)\n"
     ]
    },
    {
     "name": "stdout",
     "output_type": "stream",
     "text": [
      "Samples:1570\n",
      "15.120603084564209\n"
     ]
    },
    {
     "name": "stderr",
     "output_type": "stream",
     "text": [
      "c:\\users\\k33robin\\appdata\\local\\programs\\python\\python37\\lib\\site-packages\\sklearn\\svm\\base.py:931: ConvergenceWarning: Liblinear failed to converge, increase the number of iterations.\n",
      "  \"the number of iterations.\", ConvergenceWarning)\n"
     ]
    },
    {
     "name": "stdout",
     "output_type": "stream",
     "text": [
      "Samples:1580\n",
      "15.882638454437256\n"
     ]
    },
    {
     "name": "stderr",
     "output_type": "stream",
     "text": [
      "c:\\users\\k33robin\\appdata\\local\\programs\\python\\python37\\lib\\site-packages\\sklearn\\svm\\base.py:931: ConvergenceWarning: Liblinear failed to converge, increase the number of iterations.\n",
      "  \"the number of iterations.\", ConvergenceWarning)\n"
     ]
    },
    {
     "name": "stdout",
     "output_type": "stream",
     "text": [
      "Samples:1590\n",
      "15.423481941223145\n"
     ]
    },
    {
     "name": "stderr",
     "output_type": "stream",
     "text": [
      "c:\\users\\k33robin\\appdata\\local\\programs\\python\\python37\\lib\\site-packages\\sklearn\\svm\\base.py:931: ConvergenceWarning: Liblinear failed to converge, increase the number of iterations.\n",
      "  \"the number of iterations.\", ConvergenceWarning)\n"
     ]
    },
    {
     "data": {
      "text/plain": [
       "OrderedDict([(100, [0.5]),\n",
       "             (110, [0.5225]),\n",
       "             (120, [0.5025]),\n",
       "             (130, [0.515]),\n",
       "             (140, [0.505]),\n",
       "             (150, [0.5175]),\n",
       "             (160, [0.51]),\n",
       "             (170, [0.505]),\n",
       "             (180, [0.51]),\n",
       "             (190, [0.515]),\n",
       "             (200, [0.5225]),\n",
       "             (210, [0.5575]),\n",
       "             (220, [0.555]),\n",
       "             (230, [0.5425]),\n",
       "             (240, [0.545]),\n",
       "             (250, [0.5375]),\n",
       "             (260, [0.5325]),\n",
       "             (270, [0.555]),\n",
       "             (280, [0.5625]),\n",
       "             (290, [0.5725]),\n",
       "             (300, [0.5625]),\n",
       "             (310, [0.5775]),\n",
       "             (320, [0.565]),\n",
       "             (330, [0.58]),\n",
       "             (340, [0.585]),\n",
       "             (350, [0.5925]),\n",
       "             (360, [0.5875]),\n",
       "             (370, [0.59]),\n",
       "             (380, [0.6075]),\n",
       "             (390, [0.6075]),\n",
       "             (400, [0.6175]),\n",
       "             (410, [0.62]),\n",
       "             (420, [0.6175]),\n",
       "             (430, [0.635]),\n",
       "             (440, [0.64]),\n",
       "             (450, [0.6375]),\n",
       "             (460, [0.6425]),\n",
       "             (470, [0.635]),\n",
       "             (480, [0.6475]),\n",
       "             (490, [0.645]),\n",
       "             (500, [0.655]),\n",
       "             (510, [0.6425]),\n",
       "             (520, [0.6475]),\n",
       "             (530, [0.65]),\n",
       "             (540, [0.65]),\n",
       "             (550, [0.6525]),\n",
       "             (560, [0.65]),\n",
       "             (570, [0.66]),\n",
       "             (580, [0.66]),\n",
       "             (590, [0.6625]),\n",
       "             (600, [0.6675]),\n",
       "             (610, [0.665]),\n",
       "             (620, [0.6675]),\n",
       "             (630, [0.6825]),\n",
       "             (640, [0.68]),\n",
       "             (650, [0.68]),\n",
       "             (660, [0.69]),\n",
       "             (670, [0.6875]),\n",
       "             (680, [0.6925]),\n",
       "             (690, [0.6925]),\n",
       "             (700, [0.6925]),\n",
       "             (710, [0.6875]),\n",
       "             (720, [0.6875]),\n",
       "             (730, [0.6875]),\n",
       "             (740, [0.6925]),\n",
       "             (750, [0.69]),\n",
       "             (760, [0.695]),\n",
       "             (770, [0.7025]),\n",
       "             (780, [0.71]),\n",
       "             (790, [0.7125]),\n",
       "             (800, [0.715]),\n",
       "             (810, [0.7175]),\n",
       "             (820, [0.725]),\n",
       "             (830, [0.7275]),\n",
       "             (840, [0.7325]),\n",
       "             (850, [0.74]),\n",
       "             (860, [0.74]),\n",
       "             (870, [0.7425]),\n",
       "             (880, [0.7475]),\n",
       "             (890, [0.7525]),\n",
       "             (900, [0.755]),\n",
       "             (910, [0.7675]),\n",
       "             (920, [0.7725]),\n",
       "             (930, [0.775]),\n",
       "             (940, [0.78]),\n",
       "             (950, [0.7825]),\n",
       "             (960, [0.7875]),\n",
       "             (970, [0.79]),\n",
       "             (980, [0.795]),\n",
       "             (990, [0.795]),\n",
       "             (1000, [0.8]),\n",
       "             (1010, [0.8025]),\n",
       "             (1020, [0.8075]),\n",
       "             (1030, [0.81]),\n",
       "             (1040, [0.81]),\n",
       "             (1050, [0.81]),\n",
       "             (1060, [0.815]),\n",
       "             (1070, [0.8175]),\n",
       "             (1080, [0.825]),\n",
       "             (1090, [0.8275]),\n",
       "             (1100, [0.83]),\n",
       "             (1110, [0.835]),\n",
       "             (1120, [0.84]),\n",
       "             (1130, [0.84]),\n",
       "             (1140, [0.845]),\n",
       "             (1150, [0.8475]),\n",
       "             (1160, [0.8525]),\n",
       "             (1170, [0.855]),\n",
       "             (1180, [0.8575]),\n",
       "             (1190, [0.8575]),\n",
       "             (1200, [0.86]),\n",
       "             (1210, [0.86]),\n",
       "             (1220, [0.86]),\n",
       "             (1230, [0.865]),\n",
       "             (1240, [0.87]),\n",
       "             (1250, [0.87]),\n",
       "             (1260, [0.88]),\n",
       "             (1270, [0.88]),\n",
       "             (1280, [0.88]),\n",
       "             (1290, [0.8875]),\n",
       "             (1300, [0.895]),\n",
       "             (1310, [0.9]),\n",
       "             (1320, [0.9]),\n",
       "             (1330, [0.905]),\n",
       "             (1340, [0.91]),\n",
       "             (1350, [0.9125]),\n",
       "             (1360, [0.92]),\n",
       "             (1370, [0.925]),\n",
       "             (1380, [0.925]),\n",
       "             (1390, [0.9325]),\n",
       "             (1400, [0.935]),\n",
       "             (1410, [0.935]),\n",
       "             (1420, [0.94]),\n",
       "             (1430, [0.94]),\n",
       "             (1440, [0.9425]),\n",
       "             (1450, [0.9475]),\n",
       "             (1460, [0.9525]),\n",
       "             (1470, [0.955]),\n",
       "             (1480, [0.955]),\n",
       "             (1490, [0.96]),\n",
       "             (1500, [0.965]),\n",
       "             (1510, [0.9675]),\n",
       "             (1520, [0.9725]),\n",
       "             (1530, [0.975]),\n",
       "             (1540, [0.9775]),\n",
       "             (1550, [0.985]),\n",
       "             (1560, [0.985]),\n",
       "             (1570, [0.9875]),\n",
       "             (1580, [0.995]),\n",
       "             (1590, [1.0]),\n",
       "             (1600, [1.0])])"
      ]
     },
     "execution_count": 86,
     "metadata": {},
     "output_type": "execute_result"
    }
   ],
   "source": [
    "#Create linear SVM classifier\n",
    "svc = LinearSVC(max_iter=10000)\n",
    "\n",
    "#Constant that changes the number of labeled data added each loop\n",
    "K = 10\n",
    "\n",
    "#Copy the data as it will be mutated\n",
    "q1_T = T.copy()\n",
    "q1_T_r = T_r.copy()\n",
    "\n",
    "#Used to store results. Keys will be the number of training samples\n",
    "q1_results = OrderedDict()\n",
    "\n",
    "#Initialize first key\n",
    "key=100\n",
    "\n",
    "#Loop untill break\n",
    "while True:\n",
    "    start = time.time()\n",
    "    \n",
    "    #Fit the model, and store results\n",
    "    svc.fit(q1_T.drop(['label'],axis=1),q1_T['label'])\n",
    "    q1_results[key] = [svc.score(test_data.drop(['label'],axis=1),test_data['label'])]\n",
    "    \n",
    "    #If there is data left to look through then use it\n",
    "    if (len(q1_T_r)>0):\n",
    "        \n",
    "        #Generate uncertainty metric and take it's absolute value (approximates distance from margin)\n",
    "        q1_T_r['un'] = np.absolute(svc.decision_function(q1_T_r.drop(['label'],axis=1)))\n",
    "        \n",
    "        #Sort the uncertainty to find the points closest to margin\n",
    "        q1_T_r = q1_T_r.sort_values(by='un')\n",
    "        \n",
    "        #Add the K points with highest uncertanty to the training data\n",
    "        q1_T = pd.concat([q1_T,q1_T_r.head(K).drop(['un'],axis=1)], ignore_index = True)\n",
    "        \n",
    "        #Drop the K points from the remainder set\n",
    "        q1_T_r = q1_T_r.iloc[K:].drop(['un'],axis=1)\n",
    "        end = time.time()\n",
    "        print(\"Samples:\"+str(key))\n",
    "        print(end - start)\n",
    "        \n",
    "        #Increment key\n",
    "        key+=K\n",
    "        \n",
    "    else: break\n",
    "    \n",
    "q1_results"
   ]
  },
  {
   "cell_type": "markdown",
   "metadata": {},
   "source": [
    "## Random Sampling"
   ]
  },
  {
   "cell_type": "code",
   "execution_count": 89,
   "metadata": {
    "scrolled": true
   },
   "outputs": [
    {
     "name": "stdout",
     "output_type": "stream",
     "text": [
      "Samples:100\n",
      "0.36803722381591797\n",
      "Samples:110\n",
      "0.43935251235961914\n",
      "Samples:120\n",
      "0.4728209972381592\n",
      "Samples:130\n",
      "0.4749138355255127\n",
      "Samples:140\n",
      "0.49422526359558105\n",
      "Samples:150\n",
      "0.505122184753418\n",
      "Samples:160\n",
      "0.6303348541259766\n",
      "Samples:170\n",
      "0.5838608741760254\n",
      "Samples:180\n",
      "0.6696896553039551\n",
      "Samples:190\n",
      "0.6090555191040039\n",
      "Samples:200\n",
      "0.6355428695678711\n",
      "Samples:210\n",
      "0.636756181716919\n",
      "Samples:220\n",
      "0.6723356246948242\n",
      "Samples:230\n",
      "0.6782457828521729\n",
      "Samples:240\n",
      "0.709115743637085\n",
      "Samples:250\n",
      "0.7993860244750977\n",
      "Samples:260\n",
      "0.707122802734375\n",
      "Samples:270\n",
      "0.7123055458068848\n",
      "Samples:280\n",
      "0.7334105968475342\n",
      "Samples:290\n",
      "0.8133671283721924\n",
      "Samples:300\n",
      "0.8597824573516846\n",
      "Samples:310\n",
      "0.8088932037353516\n",
      "Samples:320\n",
      "0.9306402206420898\n",
      "Samples:330\n",
      "0.683373212814331\n",
      "Samples:340\n",
      "0.6623759269714355\n",
      "Samples:350\n",
      "0.7286231517791748\n",
      "Samples:360\n",
      "0.7709956169128418\n",
      "Samples:370\n",
      "0.7132017612457275\n",
      "Samples:380\n",
      "0.7111270427703857\n",
      "Samples:390\n",
      "0.7550184726715088\n",
      "Samples:400\n",
      "0.7251427173614502\n",
      "Samples:410\n",
      "0.7176108360290527\n",
      "Samples:420\n",
      "0.7974600791931152\n",
      "Samples:430\n",
      "0.7519798278808594\n",
      "Samples:440\n",
      "0.7360947132110596\n",
      "Samples:450\n",
      "0.7909128665924072\n",
      "Samples:460\n",
      "0.7581236362457275\n",
      "Samples:470\n",
      "0.8797316551208496\n",
      "Samples:480\n",
      "0.8906550407409668\n",
      "Samples:490\n",
      "0.830805778503418\n",
      "Samples:500\n",
      "0.9451279640197754\n",
      "Samples:510\n",
      "1.3842945098876953\n",
      "Samples:520\n",
      "1.2339003086090088\n",
      "Samples:530\n",
      "1.1485655307769775\n",
      "Samples:540\n",
      "1.1142065525054932\n",
      "Samples:550\n",
      "1.3108134269714355\n",
      "Samples:560\n",
      "1.3122427463531494\n",
      "Samples:570\n",
      "1.2295124530792236\n",
      "Samples:580\n",
      "1.090216875076294\n",
      "Samples:590\n",
      "1.1331446170806885\n",
      "Samples:600\n",
      "1.163743019104004\n",
      "Samples:610\n",
      "1.1290431022644043\n",
      "Samples:620\n",
      "1.157480239868164\n",
      "Samples:630\n",
      "1.2116501331329346\n",
      "Samples:640\n",
      "1.278036117553711\n",
      "Samples:650\n",
      "1.199561595916748\n",
      "Samples:660\n",
      "1.3170192241668701\n",
      "Samples:670\n",
      "1.363415002822876\n",
      "Samples:680\n",
      "1.2426345348358154\n",
      "Samples:690\n",
      "1.2950916290283203\n",
      "Samples:700\n",
      "1.2805445194244385\n",
      "Samples:710\n",
      "1.3051905632019043\n",
      "Samples:720\n",
      "1.3563449382781982\n",
      "Samples:730\n",
      "1.4492483139038086\n",
      "Samples:740\n",
      "1.4529569149017334\n",
      "Samples:750\n",
      "1.3921844959259033\n",
      "Samples:760\n",
      "1.4573240280151367\n",
      "Samples:770\n",
      "1.38767671585083\n",
      "Samples:780\n",
      "1.424950122833252\n",
      "Samples:790\n",
      "1.416212797164917\n"
     ]
    },
    {
     "name": "stderr",
     "output_type": "stream",
     "text": [
      "c:\\users\\k33robin\\appdata\\local\\programs\\python\\python37\\lib\\site-packages\\sklearn\\svm\\base.py:931: ConvergenceWarning: Liblinear failed to converge, increase the number of iterations.\n",
      "  \"the number of iterations.\", ConvergenceWarning)\n"
     ]
    },
    {
     "name": "stdout",
     "output_type": "stream",
     "text": [
      "Samples:800\n",
      "6.615334749221802\n"
     ]
    },
    {
     "name": "stderr",
     "output_type": "stream",
     "text": [
      "c:\\users\\k33robin\\appdata\\local\\programs\\python\\python37\\lib\\site-packages\\sklearn\\svm\\base.py:931: ConvergenceWarning: Liblinear failed to converge, increase the number of iterations.\n",
      "  \"the number of iterations.\", ConvergenceWarning)\n"
     ]
    },
    {
     "name": "stdout",
     "output_type": "stream",
     "text": [
      "Samples:810\n",
      "6.841788053512573\n"
     ]
    },
    {
     "name": "stderr",
     "output_type": "stream",
     "text": [
      "c:\\users\\k33robin\\appdata\\local\\programs\\python\\python37\\lib\\site-packages\\sklearn\\svm\\base.py:931: ConvergenceWarning: Liblinear failed to converge, increase the number of iterations.\n",
      "  \"the number of iterations.\", ConvergenceWarning)\n"
     ]
    },
    {
     "name": "stdout",
     "output_type": "stream",
     "text": [
      "Samples:820\n",
      "6.943000078201294\n"
     ]
    },
    {
     "name": "stderr",
     "output_type": "stream",
     "text": [
      "c:\\users\\k33robin\\appdata\\local\\programs\\python\\python37\\lib\\site-packages\\sklearn\\svm\\base.py:931: ConvergenceWarning: Liblinear failed to converge, increase the number of iterations.\n",
      "  \"the number of iterations.\", ConvergenceWarning)\n"
     ]
    },
    {
     "name": "stdout",
     "output_type": "stream",
     "text": [
      "Samples:830\n",
      "6.818203449249268\n"
     ]
    },
    {
     "name": "stderr",
     "output_type": "stream",
     "text": [
      "c:\\users\\k33robin\\appdata\\local\\programs\\python\\python37\\lib\\site-packages\\sklearn\\svm\\base.py:931: ConvergenceWarning: Liblinear failed to converge, increase the number of iterations.\n",
      "  \"the number of iterations.\", ConvergenceWarning)\n"
     ]
    },
    {
     "name": "stdout",
     "output_type": "stream",
     "text": [
      "Samples:840\n",
      "6.836692810058594\n"
     ]
    },
    {
     "name": "stderr",
     "output_type": "stream",
     "text": [
      "c:\\users\\k33robin\\appdata\\local\\programs\\python\\python37\\lib\\site-packages\\sklearn\\svm\\base.py:931: ConvergenceWarning: Liblinear failed to converge, increase the number of iterations.\n",
      "  \"the number of iterations.\", ConvergenceWarning)\n"
     ]
    },
    {
     "name": "stdout",
     "output_type": "stream",
     "text": [
      "Samples:850\n",
      "6.9950270652771\n"
     ]
    },
    {
     "name": "stderr",
     "output_type": "stream",
     "text": [
      "c:\\users\\k33robin\\appdata\\local\\programs\\python\\python37\\lib\\site-packages\\sklearn\\svm\\base.py:931: ConvergenceWarning: Liblinear failed to converge, increase the number of iterations.\n",
      "  \"the number of iterations.\", ConvergenceWarning)\n"
     ]
    },
    {
     "name": "stdout",
     "output_type": "stream",
     "text": [
      "Samples:860\n",
      "6.931898832321167\n"
     ]
    },
    {
     "name": "stderr",
     "output_type": "stream",
     "text": [
      "c:\\users\\k33robin\\appdata\\local\\programs\\python\\python37\\lib\\site-packages\\sklearn\\svm\\base.py:931: ConvergenceWarning: Liblinear failed to converge, increase the number of iterations.\n",
      "  \"the number of iterations.\", ConvergenceWarning)\n"
     ]
    },
    {
     "name": "stdout",
     "output_type": "stream",
     "text": [
      "Samples:870\n",
      "7.04719614982605\n"
     ]
    },
    {
     "name": "stderr",
     "output_type": "stream",
     "text": [
      "c:\\users\\k33robin\\appdata\\local\\programs\\python\\python37\\lib\\site-packages\\sklearn\\svm\\base.py:931: ConvergenceWarning: Liblinear failed to converge, increase the number of iterations.\n",
      "  \"the number of iterations.\", ConvergenceWarning)\n"
     ]
    },
    {
     "name": "stdout",
     "output_type": "stream",
     "text": [
      "Samples:880\n",
      "7.421341419219971\n"
     ]
    },
    {
     "name": "stderr",
     "output_type": "stream",
     "text": [
      "c:\\users\\k33robin\\appdata\\local\\programs\\python\\python37\\lib\\site-packages\\sklearn\\svm\\base.py:931: ConvergenceWarning: Liblinear failed to converge, increase the number of iterations.\n",
      "  \"the number of iterations.\", ConvergenceWarning)\n"
     ]
    },
    {
     "name": "stdout",
     "output_type": "stream",
     "text": [
      "Samples:890\n",
      "7.246103048324585\n"
     ]
    },
    {
     "name": "stderr",
     "output_type": "stream",
     "text": [
      "c:\\users\\k33robin\\appdata\\local\\programs\\python\\python37\\lib\\site-packages\\sklearn\\svm\\base.py:931: ConvergenceWarning: Liblinear failed to converge, increase the number of iterations.\n",
      "  \"the number of iterations.\", ConvergenceWarning)\n"
     ]
    },
    {
     "name": "stdout",
     "output_type": "stream",
     "text": [
      "Samples:900\n",
      "7.6012914180755615\n"
     ]
    },
    {
     "name": "stderr",
     "output_type": "stream",
     "text": [
      "c:\\users\\k33robin\\appdata\\local\\programs\\python\\python37\\lib\\site-packages\\sklearn\\svm\\base.py:931: ConvergenceWarning: Liblinear failed to converge, increase the number of iterations.\n",
      "  \"the number of iterations.\", ConvergenceWarning)\n"
     ]
    },
    {
     "name": "stdout",
     "output_type": "stream",
     "text": [
      "Samples:910\n",
      "7.561753034591675\n"
     ]
    },
    {
     "name": "stderr",
     "output_type": "stream",
     "text": [
      "c:\\users\\k33robin\\appdata\\local\\programs\\python\\python37\\lib\\site-packages\\sklearn\\svm\\base.py:931: ConvergenceWarning: Liblinear failed to converge, increase the number of iterations.\n",
      "  \"the number of iterations.\", ConvergenceWarning)\n"
     ]
    },
    {
     "name": "stdout",
     "output_type": "stream",
     "text": [
      "Samples:920\n",
      "7.504480838775635\n"
     ]
    },
    {
     "name": "stderr",
     "output_type": "stream",
     "text": [
      "c:\\users\\k33robin\\appdata\\local\\programs\\python\\python37\\lib\\site-packages\\sklearn\\svm\\base.py:931: ConvergenceWarning: Liblinear failed to converge, increase the number of iterations.\n",
      "  \"the number of iterations.\", ConvergenceWarning)\n"
     ]
    },
    {
     "name": "stdout",
     "output_type": "stream",
     "text": [
      "Samples:930\n",
      "7.909543991088867\n"
     ]
    },
    {
     "name": "stderr",
     "output_type": "stream",
     "text": [
      "c:\\users\\k33robin\\appdata\\local\\programs\\python\\python37\\lib\\site-packages\\sklearn\\svm\\base.py:931: ConvergenceWarning: Liblinear failed to converge, increase the number of iterations.\n",
      "  \"the number of iterations.\", ConvergenceWarning)\n"
     ]
    },
    {
     "name": "stdout",
     "output_type": "stream",
     "text": [
      "Samples:940\n",
      "8.031163454055786\n"
     ]
    },
    {
     "name": "stderr",
     "output_type": "stream",
     "text": [
      "c:\\users\\k33robin\\appdata\\local\\programs\\python\\python37\\lib\\site-packages\\sklearn\\svm\\base.py:931: ConvergenceWarning: Liblinear failed to converge, increase the number of iterations.\n",
      "  \"the number of iterations.\", ConvergenceWarning)\n"
     ]
    },
    {
     "name": "stdout",
     "output_type": "stream",
     "text": [
      "Samples:950\n",
      "7.926563262939453\n"
     ]
    },
    {
     "name": "stderr",
     "output_type": "stream",
     "text": [
      "c:\\users\\k33robin\\appdata\\local\\programs\\python\\python37\\lib\\site-packages\\sklearn\\svm\\base.py:931: ConvergenceWarning: Liblinear failed to converge, increase the number of iterations.\n",
      "  \"the number of iterations.\", ConvergenceWarning)\n"
     ]
    },
    {
     "name": "stdout",
     "output_type": "stream",
     "text": [
      "Samples:960\n",
      "7.926753044128418\n"
     ]
    },
    {
     "name": "stderr",
     "output_type": "stream",
     "text": [
      "c:\\users\\k33robin\\appdata\\local\\programs\\python\\python37\\lib\\site-packages\\sklearn\\svm\\base.py:931: ConvergenceWarning: Liblinear failed to converge, increase the number of iterations.\n",
      "  \"the number of iterations.\", ConvergenceWarning)\n"
     ]
    },
    {
     "name": "stdout",
     "output_type": "stream",
     "text": [
      "Samples:970\n",
      "7.846010446548462\n"
     ]
    },
    {
     "name": "stderr",
     "output_type": "stream",
     "text": [
      "c:\\users\\k33robin\\appdata\\local\\programs\\python\\python37\\lib\\site-packages\\sklearn\\svm\\base.py:931: ConvergenceWarning: Liblinear failed to converge, increase the number of iterations.\n",
      "  \"the number of iterations.\", ConvergenceWarning)\n"
     ]
    },
    {
     "name": "stdout",
     "output_type": "stream",
     "text": [
      "Samples:980\n",
      "7.933584451675415\n"
     ]
    },
    {
     "name": "stderr",
     "output_type": "stream",
     "text": [
      "c:\\users\\k33robin\\appdata\\local\\programs\\python\\python37\\lib\\site-packages\\sklearn\\svm\\base.py:931: ConvergenceWarning: Liblinear failed to converge, increase the number of iterations.\n",
      "  \"the number of iterations.\", ConvergenceWarning)\n"
     ]
    },
    {
     "name": "stdout",
     "output_type": "stream",
     "text": [
      "Samples:990\n",
      "7.982538223266602\n"
     ]
    },
    {
     "name": "stderr",
     "output_type": "stream",
     "text": [
      "c:\\users\\k33robin\\appdata\\local\\programs\\python\\python37\\lib\\site-packages\\sklearn\\svm\\base.py:931: ConvergenceWarning: Liblinear failed to converge, increase the number of iterations.\n",
      "  \"the number of iterations.\", ConvergenceWarning)\n"
     ]
    },
    {
     "name": "stdout",
     "output_type": "stream",
     "text": [
      "Samples:1000\n",
      "8.22205400466919\n"
     ]
    },
    {
     "name": "stderr",
     "output_type": "stream",
     "text": [
      "c:\\users\\k33robin\\appdata\\local\\programs\\python\\python37\\lib\\site-packages\\sklearn\\svm\\base.py:931: ConvergenceWarning: Liblinear failed to converge, increase the number of iterations.\n",
      "  \"the number of iterations.\", ConvergenceWarning)\n"
     ]
    },
    {
     "name": "stdout",
     "output_type": "stream",
     "text": [
      "Samples:1010\n",
      "8.088335752487183\n"
     ]
    },
    {
     "name": "stderr",
     "output_type": "stream",
     "text": [
      "c:\\users\\k33robin\\appdata\\local\\programs\\python\\python37\\lib\\site-packages\\sklearn\\svm\\base.py:931: ConvergenceWarning: Liblinear failed to converge, increase the number of iterations.\n",
      "  \"the number of iterations.\", ConvergenceWarning)\n"
     ]
    },
    {
     "name": "stdout",
     "output_type": "stream",
     "text": [
      "Samples:1020\n",
      "8.148097515106201\n"
     ]
    },
    {
     "name": "stderr",
     "output_type": "stream",
     "text": [
      "c:\\users\\k33robin\\appdata\\local\\programs\\python\\python37\\lib\\site-packages\\sklearn\\svm\\base.py:931: ConvergenceWarning: Liblinear failed to converge, increase the number of iterations.\n",
      "  \"the number of iterations.\", ConvergenceWarning)\n"
     ]
    },
    {
     "name": "stdout",
     "output_type": "stream",
     "text": [
      "Samples:1030\n",
      "8.289447546005249\n"
     ]
    },
    {
     "name": "stderr",
     "output_type": "stream",
     "text": [
      "c:\\users\\k33robin\\appdata\\local\\programs\\python\\python37\\lib\\site-packages\\sklearn\\svm\\base.py:931: ConvergenceWarning: Liblinear failed to converge, increase the number of iterations.\n",
      "  \"the number of iterations.\", ConvergenceWarning)\n"
     ]
    },
    {
     "name": "stdout",
     "output_type": "stream",
     "text": [
      "Samples:1040\n",
      "9.81188416481018\n"
     ]
    },
    {
     "name": "stderr",
     "output_type": "stream",
     "text": [
      "c:\\users\\k33robin\\appdata\\local\\programs\\python\\python37\\lib\\site-packages\\sklearn\\svm\\base.py:931: ConvergenceWarning: Liblinear failed to converge, increase the number of iterations.\n",
      "  \"the number of iterations.\", ConvergenceWarning)\n"
     ]
    },
    {
     "name": "stdout",
     "output_type": "stream",
     "text": [
      "Samples:1050\n",
      "10.024121284484863\n"
     ]
    },
    {
     "name": "stderr",
     "output_type": "stream",
     "text": [
      "c:\\users\\k33robin\\appdata\\local\\programs\\python\\python37\\lib\\site-packages\\sklearn\\svm\\base.py:931: ConvergenceWarning: Liblinear failed to converge, increase the number of iterations.\n",
      "  \"the number of iterations.\", ConvergenceWarning)\n"
     ]
    },
    {
     "name": "stdout",
     "output_type": "stream",
     "text": [
      "Samples:1060\n",
      "8.700784683227539\n"
     ]
    },
    {
     "name": "stderr",
     "output_type": "stream",
     "text": [
      "c:\\users\\k33robin\\appdata\\local\\programs\\python\\python37\\lib\\site-packages\\sklearn\\svm\\base.py:931: ConvergenceWarning: Liblinear failed to converge, increase the number of iterations.\n",
      "  \"the number of iterations.\", ConvergenceWarning)\n"
     ]
    },
    {
     "name": "stdout",
     "output_type": "stream",
     "text": [
      "Samples:1070\n",
      "8.64384126663208\n"
     ]
    },
    {
     "name": "stderr",
     "output_type": "stream",
     "text": [
      "c:\\users\\k33robin\\appdata\\local\\programs\\python\\python37\\lib\\site-packages\\sklearn\\svm\\base.py:931: ConvergenceWarning: Liblinear failed to converge, increase the number of iterations.\n",
      "  \"the number of iterations.\", ConvergenceWarning)\n"
     ]
    },
    {
     "name": "stdout",
     "output_type": "stream",
     "text": [
      "Samples:1080\n",
      "9.018198490142822\n"
     ]
    },
    {
     "name": "stderr",
     "output_type": "stream",
     "text": [
      "c:\\users\\k33robin\\appdata\\local\\programs\\python\\python37\\lib\\site-packages\\sklearn\\svm\\base.py:931: ConvergenceWarning: Liblinear failed to converge, increase the number of iterations.\n",
      "  \"the number of iterations.\", ConvergenceWarning)\n"
     ]
    },
    {
     "name": "stdout",
     "output_type": "stream",
     "text": [
      "Samples:1090\n",
      "10.085349559783936\n"
     ]
    },
    {
     "name": "stderr",
     "output_type": "stream",
     "text": [
      "c:\\users\\k33robin\\appdata\\local\\programs\\python\\python37\\lib\\site-packages\\sklearn\\svm\\base.py:931: ConvergenceWarning: Liblinear failed to converge, increase the number of iterations.\n",
      "  \"the number of iterations.\", ConvergenceWarning)\n"
     ]
    },
    {
     "name": "stdout",
     "output_type": "stream",
     "text": [
      "Samples:1100\n",
      "8.4086594581604\n"
     ]
    },
    {
     "name": "stderr",
     "output_type": "stream",
     "text": [
      "c:\\users\\k33robin\\appdata\\local\\programs\\python\\python37\\lib\\site-packages\\sklearn\\svm\\base.py:931: ConvergenceWarning: Liblinear failed to converge, increase the number of iterations.\n",
      "  \"the number of iterations.\", ConvergenceWarning)\n"
     ]
    },
    {
     "name": "stdout",
     "output_type": "stream",
     "text": [
      "Samples:1110\n",
      "8.061614274978638\n"
     ]
    },
    {
     "name": "stderr",
     "output_type": "stream",
     "text": [
      "c:\\users\\k33robin\\appdata\\local\\programs\\python\\python37\\lib\\site-packages\\sklearn\\svm\\base.py:931: ConvergenceWarning: Liblinear failed to converge, increase the number of iterations.\n",
      "  \"the number of iterations.\", ConvergenceWarning)\n"
     ]
    },
    {
     "name": "stdout",
     "output_type": "stream",
     "text": [
      "Samples:1120\n",
      "8.1671621799469\n"
     ]
    },
    {
     "name": "stderr",
     "output_type": "stream",
     "text": [
      "c:\\users\\k33robin\\appdata\\local\\programs\\python\\python37\\lib\\site-packages\\sklearn\\svm\\base.py:931: ConvergenceWarning: Liblinear failed to converge, increase the number of iterations.\n",
      "  \"the number of iterations.\", ConvergenceWarning)\n"
     ]
    },
    {
     "name": "stdout",
     "output_type": "stream",
     "text": [
      "Samples:1130\n",
      "8.196056604385376\n"
     ]
    },
    {
     "name": "stderr",
     "output_type": "stream",
     "text": [
      "c:\\users\\k33robin\\appdata\\local\\programs\\python\\python37\\lib\\site-packages\\sklearn\\svm\\base.py:931: ConvergenceWarning: Liblinear failed to converge, increase the number of iterations.\n",
      "  \"the number of iterations.\", ConvergenceWarning)\n"
     ]
    },
    {
     "name": "stdout",
     "output_type": "stream",
     "text": [
      "Samples:1140\n",
      "8.150848865509033\n"
     ]
    },
    {
     "name": "stderr",
     "output_type": "stream",
     "text": [
      "c:\\users\\k33robin\\appdata\\local\\programs\\python\\python37\\lib\\site-packages\\sklearn\\svm\\base.py:931: ConvergenceWarning: Liblinear failed to converge, increase the number of iterations.\n",
      "  \"the number of iterations.\", ConvergenceWarning)\n"
     ]
    },
    {
     "name": "stdout",
     "output_type": "stream",
     "text": [
      "Samples:1150\n",
      "8.254156112670898\n"
     ]
    },
    {
     "name": "stderr",
     "output_type": "stream",
     "text": [
      "c:\\users\\k33robin\\appdata\\local\\programs\\python\\python37\\lib\\site-packages\\sklearn\\svm\\base.py:931: ConvergenceWarning: Liblinear failed to converge, increase the number of iterations.\n",
      "  \"the number of iterations.\", ConvergenceWarning)\n"
     ]
    },
    {
     "name": "stdout",
     "output_type": "stream",
     "text": [
      "Samples:1160\n",
      "8.264410018920898\n"
     ]
    },
    {
     "name": "stderr",
     "output_type": "stream",
     "text": [
      "c:\\users\\k33robin\\appdata\\local\\programs\\python\\python37\\lib\\site-packages\\sklearn\\svm\\base.py:931: ConvergenceWarning: Liblinear failed to converge, increase the number of iterations.\n",
      "  \"the number of iterations.\", ConvergenceWarning)\n"
     ]
    },
    {
     "name": "stdout",
     "output_type": "stream",
     "text": [
      "Samples:1170\n",
      "8.872955799102783\n"
     ]
    },
    {
     "name": "stderr",
     "output_type": "stream",
     "text": [
      "c:\\users\\k33robin\\appdata\\local\\programs\\python\\python37\\lib\\site-packages\\sklearn\\svm\\base.py:931: ConvergenceWarning: Liblinear failed to converge, increase the number of iterations.\n",
      "  \"the number of iterations.\", ConvergenceWarning)\n"
     ]
    },
    {
     "name": "stdout",
     "output_type": "stream",
     "text": [
      "Samples:1180\n",
      "8.516029357910156\n"
     ]
    },
    {
     "name": "stderr",
     "output_type": "stream",
     "text": [
      "c:\\users\\k33robin\\appdata\\local\\programs\\python\\python37\\lib\\site-packages\\sklearn\\svm\\base.py:931: ConvergenceWarning: Liblinear failed to converge, increase the number of iterations.\n",
      "  \"the number of iterations.\", ConvergenceWarning)\n"
     ]
    },
    {
     "name": "stdout",
     "output_type": "stream",
     "text": [
      "Samples:1190\n",
      "8.527034759521484\n"
     ]
    },
    {
     "name": "stderr",
     "output_type": "stream",
     "text": [
      "c:\\users\\k33robin\\appdata\\local\\programs\\python\\python37\\lib\\site-packages\\sklearn\\svm\\base.py:931: ConvergenceWarning: Liblinear failed to converge, increase the number of iterations.\n",
      "  \"the number of iterations.\", ConvergenceWarning)\n"
     ]
    },
    {
     "name": "stdout",
     "output_type": "stream",
     "text": [
      "Samples:1200\n",
      "8.483146905899048\n"
     ]
    },
    {
     "name": "stderr",
     "output_type": "stream",
     "text": [
      "c:\\users\\k33robin\\appdata\\local\\programs\\python\\python37\\lib\\site-packages\\sklearn\\svm\\base.py:931: ConvergenceWarning: Liblinear failed to converge, increase the number of iterations.\n",
      "  \"the number of iterations.\", ConvergenceWarning)\n"
     ]
    },
    {
     "name": "stdout",
     "output_type": "stream",
     "text": [
      "Samples:1210\n",
      "8.837722778320312\n"
     ]
    },
    {
     "name": "stderr",
     "output_type": "stream",
     "text": [
      "c:\\users\\k33robin\\appdata\\local\\programs\\python\\python37\\lib\\site-packages\\sklearn\\svm\\base.py:931: ConvergenceWarning: Liblinear failed to converge, increase the number of iterations.\n",
      "  \"the number of iterations.\", ConvergenceWarning)\n"
     ]
    },
    {
     "name": "stdout",
     "output_type": "stream",
     "text": [
      "Samples:1220\n",
      "8.786583662033081\n"
     ]
    },
    {
     "name": "stderr",
     "output_type": "stream",
     "text": [
      "c:\\users\\k33robin\\appdata\\local\\programs\\python\\python37\\lib\\site-packages\\sklearn\\svm\\base.py:931: ConvergenceWarning: Liblinear failed to converge, increase the number of iterations.\n",
      "  \"the number of iterations.\", ConvergenceWarning)\n"
     ]
    },
    {
     "name": "stdout",
     "output_type": "stream",
     "text": [
      "Samples:1230\n",
      "8.911832809448242\n"
     ]
    },
    {
     "name": "stderr",
     "output_type": "stream",
     "text": [
      "c:\\users\\k33robin\\appdata\\local\\programs\\python\\python37\\lib\\site-packages\\sklearn\\svm\\base.py:931: ConvergenceWarning: Liblinear failed to converge, increase the number of iterations.\n",
      "  \"the number of iterations.\", ConvergenceWarning)\n"
     ]
    },
    {
     "name": "stdout",
     "output_type": "stream",
     "text": [
      "Samples:1240\n",
      "8.80452847480774\n"
     ]
    },
    {
     "name": "stderr",
     "output_type": "stream",
     "text": [
      "c:\\users\\k33robin\\appdata\\local\\programs\\python\\python37\\lib\\site-packages\\sklearn\\svm\\base.py:931: ConvergenceWarning: Liblinear failed to converge, increase the number of iterations.\n",
      "  \"the number of iterations.\", ConvergenceWarning)\n"
     ]
    },
    {
     "name": "stdout",
     "output_type": "stream",
     "text": [
      "Samples:1250\n",
      "9.545641422271729\n"
     ]
    },
    {
     "name": "stderr",
     "output_type": "stream",
     "text": [
      "c:\\users\\k33robin\\appdata\\local\\programs\\python\\python37\\lib\\site-packages\\sklearn\\svm\\base.py:931: ConvergenceWarning: Liblinear failed to converge, increase the number of iterations.\n",
      "  \"the number of iterations.\", ConvergenceWarning)\n"
     ]
    },
    {
     "name": "stdout",
     "output_type": "stream",
     "text": [
      "Samples:1260\n",
      "8.674124956130981\n"
     ]
    },
    {
     "name": "stderr",
     "output_type": "stream",
     "text": [
      "c:\\users\\k33robin\\appdata\\local\\programs\\python\\python37\\lib\\site-packages\\sklearn\\svm\\base.py:931: ConvergenceWarning: Liblinear failed to converge, increase the number of iterations.\n",
      "  \"the number of iterations.\", ConvergenceWarning)\n"
     ]
    },
    {
     "name": "stdout",
     "output_type": "stream",
     "text": [
      "Samples:1270\n",
      "9.057915687561035\n"
     ]
    },
    {
     "name": "stderr",
     "output_type": "stream",
     "text": [
      "c:\\users\\k33robin\\appdata\\local\\programs\\python\\python37\\lib\\site-packages\\sklearn\\svm\\base.py:931: ConvergenceWarning: Liblinear failed to converge, increase the number of iterations.\n",
      "  \"the number of iterations.\", ConvergenceWarning)\n"
     ]
    },
    {
     "name": "stdout",
     "output_type": "stream",
     "text": [
      "Samples:1280\n",
      "9.21611499786377\n"
     ]
    },
    {
     "name": "stderr",
     "output_type": "stream",
     "text": [
      "c:\\users\\k33robin\\appdata\\local\\programs\\python\\python37\\lib\\site-packages\\sklearn\\svm\\base.py:931: ConvergenceWarning: Liblinear failed to converge, increase the number of iterations.\n",
      "  \"the number of iterations.\", ConvergenceWarning)\n"
     ]
    },
    {
     "name": "stdout",
     "output_type": "stream",
     "text": [
      "Samples:1290\n",
      "9.035301208496094\n"
     ]
    },
    {
     "name": "stderr",
     "output_type": "stream",
     "text": [
      "c:\\users\\k33robin\\appdata\\local\\programs\\python\\python37\\lib\\site-packages\\sklearn\\svm\\base.py:931: ConvergenceWarning: Liblinear failed to converge, increase the number of iterations.\n",
      "  \"the number of iterations.\", ConvergenceWarning)\n"
     ]
    },
    {
     "name": "stdout",
     "output_type": "stream",
     "text": [
      "Samples:1300\n",
      "9.13327670097351\n"
     ]
    },
    {
     "name": "stderr",
     "output_type": "stream",
     "text": [
      "c:\\users\\k33robin\\appdata\\local\\programs\\python\\python37\\lib\\site-packages\\sklearn\\svm\\base.py:931: ConvergenceWarning: Liblinear failed to converge, increase the number of iterations.\n",
      "  \"the number of iterations.\", ConvergenceWarning)\n"
     ]
    },
    {
     "name": "stdout",
     "output_type": "stream",
     "text": [
      "Samples:1310\n",
      "9.687325716018677\n"
     ]
    },
    {
     "name": "stderr",
     "output_type": "stream",
     "text": [
      "c:\\users\\k33robin\\appdata\\local\\programs\\python\\python37\\lib\\site-packages\\sklearn\\svm\\base.py:931: ConvergenceWarning: Liblinear failed to converge, increase the number of iterations.\n",
      "  \"the number of iterations.\", ConvergenceWarning)\n"
     ]
    },
    {
     "name": "stdout",
     "output_type": "stream",
     "text": [
      "Samples:1320\n",
      "9.72534966468811\n"
     ]
    },
    {
     "name": "stderr",
     "output_type": "stream",
     "text": [
      "c:\\users\\k33robin\\appdata\\local\\programs\\python\\python37\\lib\\site-packages\\sklearn\\svm\\base.py:931: ConvergenceWarning: Liblinear failed to converge, increase the number of iterations.\n",
      "  \"the number of iterations.\", ConvergenceWarning)\n"
     ]
    },
    {
     "name": "stdout",
     "output_type": "stream",
     "text": [
      "Samples:1330\n",
      "9.861654043197632\n"
     ]
    },
    {
     "name": "stderr",
     "output_type": "stream",
     "text": [
      "c:\\users\\k33robin\\appdata\\local\\programs\\python\\python37\\lib\\site-packages\\sklearn\\svm\\base.py:931: ConvergenceWarning: Liblinear failed to converge, increase the number of iterations.\n",
      "  \"the number of iterations.\", ConvergenceWarning)\n"
     ]
    },
    {
     "name": "stdout",
     "output_type": "stream",
     "text": [
      "Samples:1340\n",
      "9.925904035568237\n"
     ]
    },
    {
     "name": "stderr",
     "output_type": "stream",
     "text": [
      "c:\\users\\k33robin\\appdata\\local\\programs\\python\\python37\\lib\\site-packages\\sklearn\\svm\\base.py:931: ConvergenceWarning: Liblinear failed to converge, increase the number of iterations.\n",
      "  \"the number of iterations.\", ConvergenceWarning)\n"
     ]
    },
    {
     "name": "stdout",
     "output_type": "stream",
     "text": [
      "Samples:1350\n",
      "9.893685340881348\n"
     ]
    },
    {
     "name": "stderr",
     "output_type": "stream",
     "text": [
      "c:\\users\\k33robin\\appdata\\local\\programs\\python\\python37\\lib\\site-packages\\sklearn\\svm\\base.py:931: ConvergenceWarning: Liblinear failed to converge, increase the number of iterations.\n",
      "  \"the number of iterations.\", ConvergenceWarning)\n"
     ]
    },
    {
     "name": "stdout",
     "output_type": "stream",
     "text": [
      "Samples:1360\n",
      "10.270095586776733\n"
     ]
    },
    {
     "name": "stderr",
     "output_type": "stream",
     "text": [
      "c:\\users\\k33robin\\appdata\\local\\programs\\python\\python37\\lib\\site-packages\\sklearn\\svm\\base.py:931: ConvergenceWarning: Liblinear failed to converge, increase the number of iterations.\n",
      "  \"the number of iterations.\", ConvergenceWarning)\n"
     ]
    },
    {
     "name": "stdout",
     "output_type": "stream",
     "text": [
      "Samples:1370\n",
      "10.12389087677002\n"
     ]
    },
    {
     "name": "stderr",
     "output_type": "stream",
     "text": [
      "c:\\users\\k33robin\\appdata\\local\\programs\\python\\python37\\lib\\site-packages\\sklearn\\svm\\base.py:931: ConvergenceWarning: Liblinear failed to converge, increase the number of iterations.\n",
      "  \"the number of iterations.\", ConvergenceWarning)\n"
     ]
    },
    {
     "name": "stdout",
     "output_type": "stream",
     "text": [
      "Samples:1380\n",
      "10.160375595092773\n"
     ]
    },
    {
     "name": "stderr",
     "output_type": "stream",
     "text": [
      "c:\\users\\k33robin\\appdata\\local\\programs\\python\\python37\\lib\\site-packages\\sklearn\\svm\\base.py:931: ConvergenceWarning: Liblinear failed to converge, increase the number of iterations.\n",
      "  \"the number of iterations.\", ConvergenceWarning)\n"
     ]
    },
    {
     "name": "stdout",
     "output_type": "stream",
     "text": [
      "Samples:1390\n",
      "10.749279737472534\n"
     ]
    },
    {
     "name": "stderr",
     "output_type": "stream",
     "text": [
      "c:\\users\\k33robin\\appdata\\local\\programs\\python\\python37\\lib\\site-packages\\sklearn\\svm\\base.py:931: ConvergenceWarning: Liblinear failed to converge, increase the number of iterations.\n",
      "  \"the number of iterations.\", ConvergenceWarning)\n"
     ]
    },
    {
     "name": "stdout",
     "output_type": "stream",
     "text": [
      "Samples:1400\n",
      "10.25783634185791\n"
     ]
    },
    {
     "name": "stderr",
     "output_type": "stream",
     "text": [
      "c:\\users\\k33robin\\appdata\\local\\programs\\python\\python37\\lib\\site-packages\\sklearn\\svm\\base.py:931: ConvergenceWarning: Liblinear failed to converge, increase the number of iterations.\n",
      "  \"the number of iterations.\", ConvergenceWarning)\n"
     ]
    },
    {
     "name": "stdout",
     "output_type": "stream",
     "text": [
      "Samples:1410\n",
      "9.94417691230774\n"
     ]
    },
    {
     "name": "stderr",
     "output_type": "stream",
     "text": [
      "c:\\users\\k33robin\\appdata\\local\\programs\\python\\python37\\lib\\site-packages\\sklearn\\svm\\base.py:931: ConvergenceWarning: Liblinear failed to converge, increase the number of iterations.\n",
      "  \"the number of iterations.\", ConvergenceWarning)\n"
     ]
    },
    {
     "name": "stdout",
     "output_type": "stream",
     "text": [
      "Samples:1420\n",
      "9.93798828125\n"
     ]
    },
    {
     "name": "stderr",
     "output_type": "stream",
     "text": [
      "c:\\users\\k33robin\\appdata\\local\\programs\\python\\python37\\lib\\site-packages\\sklearn\\svm\\base.py:931: ConvergenceWarning: Liblinear failed to converge, increase the number of iterations.\n",
      "  \"the number of iterations.\", ConvergenceWarning)\n"
     ]
    },
    {
     "name": "stdout",
     "output_type": "stream",
     "text": [
      "Samples:1430\n",
      "10.250344514846802\n"
     ]
    },
    {
     "name": "stderr",
     "output_type": "stream",
     "text": [
      "c:\\users\\k33robin\\appdata\\local\\programs\\python\\python37\\lib\\site-packages\\sklearn\\svm\\base.py:931: ConvergenceWarning: Liblinear failed to converge, increase the number of iterations.\n",
      "  \"the number of iterations.\", ConvergenceWarning)\n"
     ]
    },
    {
     "name": "stdout",
     "output_type": "stream",
     "text": [
      "Samples:1440\n",
      "12.100862741470337\n"
     ]
    },
    {
     "name": "stderr",
     "output_type": "stream",
     "text": [
      "c:\\users\\k33robin\\appdata\\local\\programs\\python\\python37\\lib\\site-packages\\sklearn\\svm\\base.py:931: ConvergenceWarning: Liblinear failed to converge, increase the number of iterations.\n",
      "  \"the number of iterations.\", ConvergenceWarning)\n"
     ]
    },
    {
     "name": "stdout",
     "output_type": "stream",
     "text": [
      "Samples:1450\n",
      "12.56753659248352\n"
     ]
    },
    {
     "name": "stderr",
     "output_type": "stream",
     "text": [
      "c:\\users\\k33robin\\appdata\\local\\programs\\python\\python37\\lib\\site-packages\\sklearn\\svm\\base.py:931: ConvergenceWarning: Liblinear failed to converge, increase the number of iterations.\n",
      "  \"the number of iterations.\", ConvergenceWarning)\n"
     ]
    },
    {
     "name": "stdout",
     "output_type": "stream",
     "text": [
      "Samples:1460\n",
      "13.210957050323486\n"
     ]
    },
    {
     "name": "stderr",
     "output_type": "stream",
     "text": [
      "c:\\users\\k33robin\\appdata\\local\\programs\\python\\python37\\lib\\site-packages\\sklearn\\svm\\base.py:931: ConvergenceWarning: Liblinear failed to converge, increase the number of iterations.\n",
      "  \"the number of iterations.\", ConvergenceWarning)\n"
     ]
    },
    {
     "name": "stdout",
     "output_type": "stream",
     "text": [
      "Samples:1470\n",
      "12.423720121383667\n"
     ]
    },
    {
     "name": "stderr",
     "output_type": "stream",
     "text": [
      "c:\\users\\k33robin\\appdata\\local\\programs\\python\\python37\\lib\\site-packages\\sklearn\\svm\\base.py:931: ConvergenceWarning: Liblinear failed to converge, increase the number of iterations.\n",
      "  \"the number of iterations.\", ConvergenceWarning)\n"
     ]
    },
    {
     "name": "stdout",
     "output_type": "stream",
     "text": [
      "Samples:1480\n",
      "12.245747089385986\n"
     ]
    },
    {
     "name": "stderr",
     "output_type": "stream",
     "text": [
      "c:\\users\\k33robin\\appdata\\local\\programs\\python\\python37\\lib\\site-packages\\sklearn\\svm\\base.py:931: ConvergenceWarning: Liblinear failed to converge, increase the number of iterations.\n",
      "  \"the number of iterations.\", ConvergenceWarning)\n"
     ]
    },
    {
     "name": "stdout",
     "output_type": "stream",
     "text": [
      "Samples:1490\n",
      "12.197972536087036\n"
     ]
    },
    {
     "name": "stderr",
     "output_type": "stream",
     "text": [
      "c:\\users\\k33robin\\appdata\\local\\programs\\python\\python37\\lib\\site-packages\\sklearn\\svm\\base.py:931: ConvergenceWarning: Liblinear failed to converge, increase the number of iterations.\n",
      "  \"the number of iterations.\", ConvergenceWarning)\n"
     ]
    },
    {
     "name": "stdout",
     "output_type": "stream",
     "text": [
      "Samples:1500\n",
      "12.307764291763306\n"
     ]
    },
    {
     "name": "stderr",
     "output_type": "stream",
     "text": [
      "c:\\users\\k33robin\\appdata\\local\\programs\\python\\python37\\lib\\site-packages\\sklearn\\svm\\base.py:931: ConvergenceWarning: Liblinear failed to converge, increase the number of iterations.\n",
      "  \"the number of iterations.\", ConvergenceWarning)\n"
     ]
    },
    {
     "name": "stdout",
     "output_type": "stream",
     "text": [
      "Samples:1510\n",
      "12.788311958312988\n"
     ]
    },
    {
     "name": "stderr",
     "output_type": "stream",
     "text": [
      "c:\\users\\k33robin\\appdata\\local\\programs\\python\\python37\\lib\\site-packages\\sklearn\\svm\\base.py:931: ConvergenceWarning: Liblinear failed to converge, increase the number of iterations.\n",
      "  \"the number of iterations.\", ConvergenceWarning)\n"
     ]
    },
    {
     "name": "stdout",
     "output_type": "stream",
     "text": [
      "Samples:1520\n",
      "12.303714036941528\n"
     ]
    },
    {
     "name": "stderr",
     "output_type": "stream",
     "text": [
      "c:\\users\\k33robin\\appdata\\local\\programs\\python\\python37\\lib\\site-packages\\sklearn\\svm\\base.py:931: ConvergenceWarning: Liblinear failed to converge, increase the number of iterations.\n",
      "  \"the number of iterations.\", ConvergenceWarning)\n"
     ]
    },
    {
     "name": "stdout",
     "output_type": "stream",
     "text": [
      "Samples:1530\n",
      "11.618663787841797\n"
     ]
    },
    {
     "name": "stderr",
     "output_type": "stream",
     "text": [
      "c:\\users\\k33robin\\appdata\\local\\programs\\python\\python37\\lib\\site-packages\\sklearn\\svm\\base.py:931: ConvergenceWarning: Liblinear failed to converge, increase the number of iterations.\n",
      "  \"the number of iterations.\", ConvergenceWarning)\n"
     ]
    },
    {
     "name": "stdout",
     "output_type": "stream",
     "text": [
      "Samples:1540\n",
      "12.07328486442566\n"
     ]
    },
    {
     "name": "stderr",
     "output_type": "stream",
     "text": [
      "c:\\users\\k33robin\\appdata\\local\\programs\\python\\python37\\lib\\site-packages\\sklearn\\svm\\base.py:931: ConvergenceWarning: Liblinear failed to converge, increase the number of iterations.\n",
      "  \"the number of iterations.\", ConvergenceWarning)\n"
     ]
    },
    {
     "name": "stdout",
     "output_type": "stream",
     "text": [
      "Samples:1550\n",
      "11.80806589126587\n"
     ]
    },
    {
     "name": "stderr",
     "output_type": "stream",
     "text": [
      "c:\\users\\k33robin\\appdata\\local\\programs\\python\\python37\\lib\\site-packages\\sklearn\\svm\\base.py:931: ConvergenceWarning: Liblinear failed to converge, increase the number of iterations.\n",
      "  \"the number of iterations.\", ConvergenceWarning)\n"
     ]
    },
    {
     "name": "stdout",
     "output_type": "stream",
     "text": [
      "Samples:1560\n",
      "13.73033094406128\n"
     ]
    },
    {
     "name": "stderr",
     "output_type": "stream",
     "text": [
      "c:\\users\\k33robin\\appdata\\local\\programs\\python\\python37\\lib\\site-packages\\sklearn\\svm\\base.py:931: ConvergenceWarning: Liblinear failed to converge, increase the number of iterations.\n",
      "  \"the number of iterations.\", ConvergenceWarning)\n"
     ]
    },
    {
     "name": "stdout",
     "output_type": "stream",
     "text": [
      "Samples:1570\n",
      "14.73604440689087\n"
     ]
    },
    {
     "name": "stderr",
     "output_type": "stream",
     "text": [
      "c:\\users\\k33robin\\appdata\\local\\programs\\python\\python37\\lib\\site-packages\\sklearn\\svm\\base.py:931: ConvergenceWarning: Liblinear failed to converge, increase the number of iterations.\n",
      "  \"the number of iterations.\", ConvergenceWarning)\n"
     ]
    },
    {
     "name": "stdout",
     "output_type": "stream",
     "text": [
      "Samples:1580\n",
      "14.61527705192566\n"
     ]
    },
    {
     "name": "stderr",
     "output_type": "stream",
     "text": [
      "c:\\users\\k33robin\\appdata\\local\\programs\\python\\python37\\lib\\site-packages\\sklearn\\svm\\base.py:931: ConvergenceWarning: Liblinear failed to converge, increase the number of iterations.\n",
      "  \"the number of iterations.\", ConvergenceWarning)\n"
     ]
    },
    {
     "name": "stdout",
     "output_type": "stream",
     "text": [
      "Samples:1590\n",
      "13.51975131034851\n"
     ]
    },
    {
     "name": "stderr",
     "output_type": "stream",
     "text": [
      "c:\\users\\k33robin\\appdata\\local\\programs\\python\\python37\\lib\\site-packages\\sklearn\\svm\\base.py:931: ConvergenceWarning: Liblinear failed to converge, increase the number of iterations.\n",
      "  \"the number of iterations.\", ConvergenceWarning)\n"
     ]
    },
    {
     "data": {
      "text/plain": [
       "OrderedDict([(100, [0.5]),\n",
       "             (110, [0.505]),\n",
       "             (120, [0.5]),\n",
       "             (130, [0.485]),\n",
       "             (140, [0.5275]),\n",
       "             (150, [0.51]),\n",
       "             (160, [0.52]),\n",
       "             (170, [0.51]),\n",
       "             (180, [0.5075]),\n",
       "             (190, [0.515]),\n",
       "             (200, [0.515]),\n",
       "             (210, [0.495]),\n",
       "             (220, [0.495]),\n",
       "             (230, [0.51]),\n",
       "             (240, [0.51]),\n",
       "             (250, [0.505]),\n",
       "             (260, [0.5]),\n",
       "             (270, [0.4675]),\n",
       "             (280, [0.485]),\n",
       "             (290, [0.4825]),\n",
       "             (300, [0.48]),\n",
       "             (310, [0.475]),\n",
       "             (320, [0.4875]),\n",
       "             (330, [0.5]),\n",
       "             (340, [0.5025]),\n",
       "             (350, [0.4875]),\n",
       "             (360, [0.5]),\n",
       "             (370, [0.495]),\n",
       "             (380, [0.4925]),\n",
       "             (390, [0.485]),\n",
       "             (400, [0.48]),\n",
       "             (410, [0.495]),\n",
       "             (420, [0.4875]),\n",
       "             (430, [0.47]),\n",
       "             (440, [0.48]),\n",
       "             (450, [0.49]),\n",
       "             (460, [0.4875]),\n",
       "             (470, [0.4925]),\n",
       "             (480, [0.48]),\n",
       "             (490, [0.4725]),\n",
       "             (500, [0.4575]),\n",
       "             (510, [0.4675]),\n",
       "             (520, [0.465]),\n",
       "             (530, [0.4775]),\n",
       "             (540, [0.475]),\n",
       "             (550, [0.4725]),\n",
       "             (560, [0.475]),\n",
       "             (570, [0.465]),\n",
       "             (580, [0.48]),\n",
       "             (590, [0.48]),\n",
       "             (600, [0.48]),\n",
       "             (610, [0.47]),\n",
       "             (620, [0.4675]),\n",
       "             (630, [0.4675]),\n",
       "             (640, [0.47]),\n",
       "             (650, [0.4725]),\n",
       "             (660, [0.4675]),\n",
       "             (670, [0.475]),\n",
       "             (680, [0.4725]),\n",
       "             (690, [0.48]),\n",
       "             (700, [0.4925]),\n",
       "             (710, [0.4925]),\n",
       "             (720, [0.51]),\n",
       "             (730, [0.5125]),\n",
       "             (740, [0.5025]),\n",
       "             (750, [0.52]),\n",
       "             (760, [0.51]),\n",
       "             (770, [0.5075]),\n",
       "             (780, [0.5125]),\n",
       "             (790, [0.52]),\n",
       "             (800, [0.52]),\n",
       "             (810, [0.5225]),\n",
       "             (820, [0.53]),\n",
       "             (830, [0.5275]),\n",
       "             (840, [0.5125]),\n",
       "             (850, [0.4975]),\n",
       "             (860, [0.4925]),\n",
       "             (870, [0.5025]),\n",
       "             (880, [0.505]),\n",
       "             (890, [0.4925]),\n",
       "             (900, [0.4875]),\n",
       "             (910, [0.4925]),\n",
       "             (920, [0.495]),\n",
       "             (930, [0.49]),\n",
       "             (940, [0.4925]),\n",
       "             (950, [0.4875]),\n",
       "             (960, [0.485]),\n",
       "             (970, [0.4925]),\n",
       "             (980, [0.5]),\n",
       "             (990, [0.4875]),\n",
       "             (1000, [0.4925]),\n",
       "             (1010, [0.4875]),\n",
       "             (1020, [0.48]),\n",
       "             (1030, [0.47]),\n",
       "             (1040, [0.4725]),\n",
       "             (1050, [0.4725]),\n",
       "             (1060, [0.4625]),\n",
       "             (1070, [0.46]),\n",
       "             (1080, [0.465]),\n",
       "             (1090, [0.46]),\n",
       "             (1100, [0.47]),\n",
       "             (1110, [0.4675]),\n",
       "             (1120, [0.48]),\n",
       "             (1130, [0.4725]),\n",
       "             (1140, [0.4875]),\n",
       "             (1150, [0.4875]),\n",
       "             (1160, [0.4925]),\n",
       "             (1170, [0.495]),\n",
       "             (1180, [0.4875]),\n",
       "             (1190, [0.505]),\n",
       "             (1200, [0.51]),\n",
       "             (1210, [0.5075]),\n",
       "             (1220, [0.525]),\n",
       "             (1230, [0.5425]),\n",
       "             (1240, [0.5525]),\n",
       "             (1250, [0.585]),\n",
       "             (1260, [0.5875]),\n",
       "             (1270, [0.6025]),\n",
       "             (1280, [0.605]),\n",
       "             (1290, [0.6175]),\n",
       "             (1300, [0.6325]),\n",
       "             (1310, [0.6575]),\n",
       "             (1320, [0.6625]),\n",
       "             (1330, [0.685]),\n",
       "             (1340, [0.6875]),\n",
       "             (1350, [0.705]),\n",
       "             (1360, [0.7125]),\n",
       "             (1370, [0.7225]),\n",
       "             (1380, [0.7375]),\n",
       "             (1390, [0.7575]),\n",
       "             (1400, [0.7575]),\n",
       "             (1410, [0.7575]),\n",
       "             (1420, [0.77]),\n",
       "             (1430, [0.7925]),\n",
       "             (1440, [0.8025]),\n",
       "             (1450, [0.81]),\n",
       "             (1460, [0.825]),\n",
       "             (1470, [0.845]),\n",
       "             (1480, [0.855]),\n",
       "             (1490, [0.8725]),\n",
       "             (1500, [0.885]),\n",
       "             (1510, [0.895]),\n",
       "             (1520, [0.91]),\n",
       "             (1530, [0.9225]),\n",
       "             (1540, [0.93]),\n",
       "             (1550, [0.945]),\n",
       "             (1560, [0.9625]),\n",
       "             (1570, [0.9675]),\n",
       "             (1580, [0.985]),\n",
       "             (1590, [0.995]),\n",
       "             (1600, [1.0])])"
      ]
     },
     "execution_count": 89,
     "metadata": {},
     "output_type": "execute_result"
    }
   ],
   "source": [
    "#This section repeats the previous methods however it picks random points to label\n",
    "svc = LinearSVC(max_iter=10000)\n",
    "\n",
    "\n",
    "K = 10\n",
    "\n",
    "random_q1_T = T.copy()\n",
    "random_q1_T_r = T_r.copy()\n",
    "\n",
    "random_q1_results = OrderedDict()\n",
    "key=100\n",
    "while True:\n",
    "    start = time.time()\n",
    "    svc.fit(random_q1_T.drop(['label'],axis=1),random_q1_T['label'])\n",
    "    random_q1_results[key] = [svc.score(test_data.drop(['label'],axis=1),test_data['label'])]\n",
    "    \n",
    "    if (len(random_q1_T_r)>0):\n",
    "        random_q1_T = pd.concat([random_q1_T,random_q1_T_r.head(K)], ignore_index = True)\n",
    "        random_q1_T_r = random_q1_T_r.iloc[K:]\n",
    "        end = time.time()\n",
    "        print(\"Samples:\"+str(key))\n",
    "        print(end - start)\n",
    "    \n",
    "        key+=K\n",
    "        \n",
    "    else: break\n",
    "    \n",
    "random_q1_results"
   ]
  },
  {
   "cell_type": "markdown",
   "metadata": {},
   "source": [
    "## Results"
   ]
  },
  {
   "cell_type": "code",
   "execution_count": 106,
   "metadata": {
    "scrolled": true
   },
   "outputs": [
    {
     "data": {
      "image/png": "[encoded data removed]",
      "text/plain": [
       "<Figure size 432x288 with 1 Axes>"
      ]
     },
     "metadata": {
      "needs_background": "light"
     },
     "output_type": "display_data"
    }
   ],
   "source": [
    "#Create and save plots\n",
    "q1_results_test = pd.concat([pd.DataFrame.from_dict(q1_results), pd.DataFrame.from_dict(random_q1_results)]).transpose()\n",
    "q1_results_test.columns = [\"Uncertainty Sampling\",\"Random Sampling\"]\n",
    "\n",
    "plot = q1_results_test.plot.line(title='Linear SVM Classification Performance Using Uncertainty Sampling')\n",
    "plot.set_xlabel(\"Size of Training Dataset\")\n",
    "plot.set_ylabel(\"Average Test Accuracy\")\n",
    "\n",
    "#Display plot in Jupyter\n",
    "plot\n",
    "\n",
    "#Save plot\n",
    "fig = plot.get_figure()\n",
    "fig.savefig(\"Q2_i.pdf\")"
   ]
  },
  {
   "cell_type": "markdown",
   "metadata": {},
   "source": [
    "# (ii)"
   ]
  },
  {
   "cell_type": "markdown",
   "metadata": {},
   "source": [
    "## Query by Committee"
   ]
  },
  {
   "cell_type": "code",
   "execution_count": 107,
   "metadata": {
    "scrolled": true
   },
   "outputs": [
    {
     "name": "stdout",
     "output_type": "stream",
     "text": [
      "Samples:100\n",
      "0.505\n",
      "4.686506032943726\n",
      "Samples:110\n",
      "0.5125\n",
      "4.847742557525635\n",
      "Samples:120\n",
      "0.5225\n",
      "4.699097156524658\n",
      "Samples:130\n",
      "0.5375\n",
      "5.319598436355591\n",
      "Samples:140\n",
      "0.5275\n",
      "5.473541259765625\n",
      "Samples:150\n",
      "0.5275\n",
      "5.55963397026062\n",
      "Samples:160\n",
      "0.5325\n",
      "6.421372890472412\n",
      "Samples:170\n",
      "0.525\n",
      "6.459392547607422\n",
      "Samples:180\n",
      "0.5275\n",
      "7.0278613567352295\n",
      "Samples:190\n",
      "0.5525\n",
      "6.588473796844482\n",
      "Samples:200\n",
      "0.535\n",
      "6.804011821746826\n",
      "Samples:210\n",
      "0.545\n",
      "6.817606210708618\n",
      "Samples:220\n",
      "0.5675\n",
      "6.930883407592773\n",
      "Samples:230\n",
      "0.57\n",
      "6.941657781600952\n",
      "Samples:240\n",
      "0.575\n",
      "7.162959814071655\n",
      "Samples:250\n",
      "0.57\n",
      "8.357483148574829\n",
      "Samples:260\n",
      "0.575\n",
      "9.002363681793213\n",
      "Samples:270\n",
      "0.575\n",
      "8.70496416091919\n",
      "Samples:280\n",
      "0.5825\n",
      "9.224533796310425\n",
      "Samples:290\n",
      "0.5925\n",
      "8.965046644210815\n",
      "Samples:300\n",
      "0.6\n",
      "8.76755952835083\n",
      "Samples:310\n",
      "0.595\n",
      "8.906464099884033\n",
      "Samples:320\n",
      "0.61\n",
      "9.24878740310669\n",
      "Samples:330\n",
      "0.6125\n",
      "9.850126028060913\n",
      "Samples:340\n",
      "0.6225\n",
      "9.434823989868164\n",
      "Samples:350\n",
      "0.61\n",
      "9.528520584106445\n",
      "Samples:360\n",
      "0.6\n",
      "9.648245334625244\n",
      "Samples:370\n",
      "0.6125\n",
      "9.796303033828735\n",
      "Samples:380\n",
      "0.6125\n",
      "9.852769613265991\n",
      "Samples:390\n",
      "0.6225\n",
      "10.131917476654053\n",
      "Samples:400\n",
      "0.5925\n",
      "11.577741861343384\n",
      "Samples:410\n",
      "0.6025\n",
      "10.79435682296753\n",
      "Samples:420\n",
      "0.605\n",
      "10.1495041847229\n",
      "Samples:430\n",
      "0.615\n",
      "10.412140846252441\n",
      "Samples:440\n",
      "0.605\n",
      "10.606332063674927\n",
      "Samples:450\n",
      "0.6225\n",
      "11.435879468917847\n",
      "Samples:460\n",
      "0.63\n",
      "11.234493970870972\n",
      "Samples:470\n",
      "0.6225\n",
      "11.92332649230957\n",
      "Samples:480\n",
      "0.635\n",
      "11.726405382156372\n",
      "Samples:490\n",
      "0.63\n",
      "13.682108402252197\n",
      "Samples:500\n",
      "0.6575\n",
      "13.748412132263184\n",
      "Samples:510\n",
      "0.64\n",
      "14.496694087982178\n",
      "Samples:520\n",
      "0.6425\n",
      "13.590853452682495\n",
      "Samples:530\n",
      "0.66\n",
      "14.478167057037354\n",
      "Samples:540\n",
      "0.6425\n",
      "15.32626986503601\n",
      "Samples:550\n",
      "0.655\n",
      "14.153241634368896\n",
      "Samples:560\n",
      "0.6525\n",
      "14.199687480926514\n",
      "Samples:570\n",
      "0.655\n",
      "14.736430406570435\n",
      "Samples:580\n",
      "0.645\n",
      "14.686286211013794\n",
      "Samples:590\n",
      "0.66\n",
      "15.082499265670776\n",
      "Samples:600\n",
      "0.68\n",
      "18.611489057540894\n",
      "Samples:610\n",
      "0.685\n",
      "17.084335803985596\n",
      "Samples:620\n",
      "0.6875\n",
      "16.38040566444397\n",
      "Samples:630\n",
      "0.705\n",
      "15.803103923797607\n",
      "Samples:640\n",
      "0.69\n",
      "15.76999568939209\n",
      "Samples:650\n",
      "0.69\n",
      "16.044474601745605\n",
      "Samples:660\n",
      "0.685\n",
      "16.39008116722107\n",
      "Samples:670\n",
      "0.7025\n",
      "16.16878032684326\n",
      "Samples:680\n",
      "0.685\n",
      "17.429882049560547\n",
      "Samples:690\n",
      "0.7\n",
      "17.742000341415405\n",
      "Samples:700\n",
      "0.7075\n",
      "17.96444010734558\n",
      "Samples:710\n",
      "0.705\n",
      "18.194266319274902\n",
      "Samples:720\n",
      "0.715\n",
      "18.92022395133972\n",
      "Samples:730\n",
      "0.735\n",
      "17.62055253982544\n",
      "Samples:740\n",
      "0.7225\n",
      "17.675554752349854\n",
      "Samples:750\n",
      "0.72\n",
      "18.568531036376953\n",
      "Samples:760\n",
      "0.74\n",
      "18.197110891342163\n",
      "Samples:770\n",
      "0.735\n",
      "18.69296407699585\n",
      "Samples:780\n",
      "0.765\n",
      "18.60412883758545\n",
      "Samples:790\n",
      "0.7425\n",
      "19.45898127555847\n",
      "Samples:800\n",
      "0.74\n",
      "19.848430395126343\n",
      "Samples:810\n",
      "0.7475\n",
      "18.898337841033936\n",
      "Samples:820\n",
      "0.7475\n",
      "19.522738933563232\n",
      "Samples:830\n",
      "0.7375\n",
      "18.983147859573364\n",
      "Samples:840\n",
      "0.7425\n",
      "18.9105441570282\n",
      "Samples:850\n",
      "0.7625\n",
      "19.6604745388031\n",
      "Samples:860\n",
      "0.755\n",
      "20.299036979675293\n",
      "Samples:870\n",
      "0.7725\n",
      "19.66723871231079\n",
      "Samples:880\n",
      "0.7725\n",
      "15.894293785095215\n",
      "Samples:890\n",
      "0.7925\n",
      "15.821707963943481\n",
      "Samples:900\n",
      "0.795\n",
      "17.237454414367676\n",
      "Samples:910\n",
      "0.7875\n",
      "20.88774800300598\n",
      "Samples:920\n",
      "0.8\n",
      "20.797561168670654\n",
      "Samples:930\n",
      "0.8\n",
      "20.574786901474\n",
      "Samples:940\n",
      "0.7925\n",
      "20.518748998641968\n",
      "Samples:950\n",
      "0.7925\n",
      "20.76660943031311\n",
      "Samples:960\n",
      "0.7925\n",
      "21.070921421051025\n",
      "Samples:970\n",
      "0.805\n",
      "22.22577476501465\n",
      "Samples:980\n",
      "0.8\n",
      "17.499209880828857\n",
      "Samples:990\n",
      "0.8175\n",
      "23.80059027671814\n",
      "Samples:1000\n",
      "0.82\n",
      "23.09811043739319\n",
      "Samples:1010\n",
      "0.8275\n",
      "22.37485933303833\n",
      "Samples:1020\n",
      "0.8275\n",
      "22.56233048439026\n",
      "Samples:1030\n",
      "0.8375\n",
      "22.85739779472351\n",
      "Samples:1040\n",
      "0.8275\n",
      "22.734230279922485\n",
      "Samples:1050\n",
      "0.8475\n",
      "24.21495509147644\n",
      "Samples:1060\n",
      "0.8425\n",
      "22.472819805145264\n",
      "Samples:1070\n",
      "0.8325\n",
      "23.862445831298828\n",
      "Samples:1080\n",
      "0.8375\n",
      "23.243509769439697\n",
      "Samples:1090\n",
      "0.8575\n",
      "22.44157838821411\n",
      "Samples:1100\n",
      "0.855\n",
      "22.69182324409485\n",
      "Samples:1110\n",
      "0.86\n",
      "22.734689712524414\n",
      "Samples:1120\n",
      "0.87\n",
      "22.504687786102295\n",
      "Samples:1130\n",
      "0.8625\n",
      "23.41252088546753\n",
      "Samples:1140\n",
      "0.8675\n",
      "24.04274320602417\n",
      "Samples:1150\n",
      "0.875\n",
      "22.712898015975952\n",
      "Samples:1160\n",
      "0.87\n",
      "22.381991863250732\n",
      "Samples:1170\n",
      "0.875\n",
      "21.943574905395508\n",
      "Samples:1180\n",
      "0.8875\n",
      "22.31278109550476\n",
      "Samples:1190\n",
      "0.88\n",
      "21.540701627731323\n",
      "Samples:1200\n",
      "0.9\n",
      "22.77570390701294\n",
      "Samples:1210\n",
      "0.8975\n",
      "21.371379852294922\n",
      "Samples:1220\n",
      "0.89\n",
      "21.918071269989014\n",
      "Samples:1230\n",
      "0.8975\n",
      "22.69739603996277\n",
      "Samples:1240\n",
      "0.9025\n",
      "21.34998846054077\n",
      "Samples:1250\n",
      "0.9025\n",
      "21.09496831893921\n",
      "Samples:1260\n",
      "0.9075\n",
      "22.951077222824097\n",
      "Samples:1270\n",
      "0.9175\n",
      "20.168516874313354\n",
      "Samples:1280\n",
      "0.9125\n",
      "21.125478267669678\n",
      "Samples:1290\n",
      "0.92\n",
      "22.819797039031982\n",
      "Samples:1300\n",
      "0.9175\n",
      "22.569908380508423\n",
      "Samples:1310\n",
      "0.9125\n",
      "22.041020393371582\n",
      "Samples:1320\n",
      "0.92\n",
      "24.18268871307373\n",
      "Samples:1330\n",
      "0.9225\n",
      "21.332656145095825\n",
      "Samples:1340\n",
      "0.92\n",
      "18.75675654411316\n",
      "Samples:1350\n",
      "0.93\n",
      "18.81248426437378\n",
      "Samples:1360\n",
      "0.935\n",
      "22.09555673599243\n",
      "Samples:1370\n",
      "0.935\n",
      "22.29866933822632\n",
      "Samples:1380\n",
      "0.94\n",
      "17.253734350204468\n",
      "Samples:1390\n",
      "0.94\n",
      "16.316523551940918\n",
      "Samples:1400\n",
      "0.945\n",
      "15.852900505065918\n",
      "Samples:1410\n",
      "0.9425\n",
      "16.710237741470337\n",
      "Samples:1420\n",
      "0.95\n",
      "22.734442472457886\n",
      "Samples:1430\n",
      "0.9525\n",
      "21.729178190231323\n",
      "Samples:1440\n",
      "0.96\n",
      "20.674301862716675\n",
      "Samples:1450\n",
      "0.96\n",
      "21.315418481826782\n",
      "Samples:1460\n",
      "0.97\n",
      "23.282609939575195\n",
      "Samples:1470\n",
      "0.9675\n",
      "19.948484420776367\n",
      "Samples:1480\n",
      "0.97\n",
      "19.338819980621338\n",
      "Samples:1490\n",
      "0.97\n",
      "19.49113130569458\n",
      "Samples:1500\n",
      "0.9725\n",
      "19.22248935699463\n",
      "Samples:1510\n",
      "0.9775\n",
      "18.840585708618164\n",
      "Samples:1520\n",
      "0.9775\n",
      "18.42112922668457\n",
      "Samples:1530\n",
      "0.98\n",
      "18.22673988342285\n",
      "Samples:1540\n",
      "0.985\n",
      "20.181143522262573\n",
      "Samples:1550\n",
      "0.9875\n",
      "18.791366815567017\n",
      "Samples:1560\n",
      "0.99\n",
      "18.473565101623535\n",
      "Samples:1570\n",
      "0.9925\n",
      "14.490014553070068\n",
      "Samples:1580\n",
      "0.9925\n",
      "17.292118787765503\n",
      "Samples:1590\n",
      "0.9975\n",
      "15.12955117225647\n"
     ]
    },
    {
     "name": "stderr",
     "output_type": "stream",
     "text": [
      "c:\\users\\k33robin\\appdata\\local\\programs\\python\\python37\\lib\\site-packages\\sklearn\\svm\\base.py:931: ConvergenceWarning: Liblinear failed to converge, increase the number of iterations.\n",
      "  \"the number of iterations.\", ConvergenceWarning)\n"
     ]
    },
    {
     "data": {
      "text/plain": [
       "OrderedDict([(100, 0.505),\n",
       "             (110, 0.5125),\n",
       "             (120, 0.5225),\n",
       "             (130, 0.5375),\n",
       "             (140, 0.5275),\n",
       "             (150, 0.5275),\n",
       "             (160, 0.5325),\n",
       "             (170, 0.525),\n",
       "             (180, 0.5275),\n",
       "             (190, 0.5525),\n",
       "             (200, 0.535),\n",
       "             (210, 0.545),\n",
       "             (220, 0.5675),\n",
       "             (230, 0.57),\n",
       "             (240, 0.575),\n",
       "             (250, 0.57),\n",
       "             (260, 0.575),\n",
       "             (270, 0.575),\n",
       "             (280, 0.5825),\n",
       "             (290, 0.5925),\n",
       "             (300, 0.6),\n",
       "             (310, 0.595),\n",
       "             (320, 0.61),\n",
       "             (330, 0.6125),\n",
       "             (340, 0.6225),\n",
       "             (350, 0.61),\n",
       "             (360, 0.6),\n",
       "             (370, 0.6125),\n",
       "             (380, 0.6125),\n",
       "             (390, 0.6225),\n",
       "             (400, 0.5925),\n",
       "             (410, 0.6025),\n",
       "             (420, 0.605),\n",
       "             (430, 0.615),\n",
       "             (440, 0.605),\n",
       "             (450, 0.6225),\n",
       "             (460, 0.63),\n",
       "             (470, 0.6225),\n",
       "             (480, 0.635),\n",
       "             (490, 0.63),\n",
       "             (500, 0.6575),\n",
       "             (510, 0.64),\n",
       "             (520, 0.6425),\n",
       "             (530, 0.66),\n",
       "             (540, 0.6425),\n",
       "             (550, 0.655),\n",
       "             (560, 0.6525),\n",
       "             (570, 0.655),\n",
       "             (580, 0.645),\n",
       "             (590, 0.66),\n",
       "             (600, 0.68),\n",
       "             (610, 0.685),\n",
       "             (620, 0.6875),\n",
       "             (630, 0.705),\n",
       "             (640, 0.69),\n",
       "             (650, 0.69),\n",
       "             (660, 0.685),\n",
       "             (670, 0.7025),\n",
       "             (680, 0.685),\n",
       "             (690, 0.7),\n",
       "             (700, 0.7075),\n",
       "             (710, 0.705),\n",
       "             (720, 0.715),\n",
       "             (730, 0.735),\n",
       "             (740, 0.7225),\n",
       "             (750, 0.72),\n",
       "             (760, 0.74),\n",
       "             (770, 0.735),\n",
       "             (780, 0.765),\n",
       "             (790, 0.7425),\n",
       "             (800, 0.74),\n",
       "             (810, 0.7475),\n",
       "             (820, 0.7475),\n",
       "             (830, 0.7375),\n",
       "             (840, 0.7425),\n",
       "             (850, 0.7625),\n",
       "             (860, 0.755),\n",
       "             (870, 0.7725),\n",
       "             (880, 0.7725),\n",
       "             (890, 0.7925),\n",
       "             (900, 0.795),\n",
       "             (910, 0.7875),\n",
       "             (920, 0.8),\n",
       "             (930, 0.8),\n",
       "             (940, 0.7925),\n",
       "             (950, 0.7925),\n",
       "             (960, 0.7925),\n",
       "             (970, 0.805),\n",
       "             (980, 0.8),\n",
       "             (990, 0.8175),\n",
       "             (1000, 0.82),\n",
       "             (1010, 0.8275),\n",
       "             (1020, 0.8275),\n",
       "             (1030, 0.8375),\n",
       "             (1040, 0.8275),\n",
       "             (1050, 0.8475),\n",
       "             (1060, 0.8425),\n",
       "             (1070, 0.8325),\n",
       "             (1080, 0.8375),\n",
       "             (1090, 0.8575),\n",
       "             (1100, 0.855),\n",
       "             (1110, 0.86),\n",
       "             (1120, 0.87),\n",
       "             (1130, 0.8625),\n",
       "             (1140, 0.8675),\n",
       "             (1150, 0.875),\n",
       "             (1160, 0.87),\n",
       "             (1170, 0.875),\n",
       "             (1180, 0.8875),\n",
       "             (1190, 0.88),\n",
       "             (1200, 0.9),\n",
       "             (1210, 0.8975),\n",
       "             (1220, 0.89),\n",
       "             (1230, 0.8975),\n",
       "             (1240, 0.9025),\n",
       "             (1250, 0.9025),\n",
       "             (1260, 0.9075),\n",
       "             (1270, 0.9175),\n",
       "             (1280, 0.9125),\n",
       "             (1290, 0.92),\n",
       "             (1300, 0.9175),\n",
       "             (1310, 0.9125),\n",
       "             (1320, 0.92),\n",
       "             (1330, 0.9225),\n",
       "             (1340, 0.92),\n",
       "             (1350, 0.93),\n",
       "             (1360, 0.935),\n",
       "             (1370, 0.935),\n",
       "             (1380, 0.94),\n",
       "             (1390, 0.94),\n",
       "             (1400, 0.945),\n",
       "             (1410, 0.9425),\n",
       "             (1420, 0.95),\n",
       "             (1430, 0.9525),\n",
       "             (1440, 0.96),\n",
       "             (1450, 0.96),\n",
       "             (1460, 0.97),\n",
       "             (1470, 0.9675),\n",
       "             (1480, 0.97),\n",
       "             (1490, 0.97),\n",
       "             (1500, 0.9725),\n",
       "             (1510, 0.9775),\n",
       "             (1520, 0.9775),\n",
       "             (1530, 0.98),\n",
       "             (1540, 0.985),\n",
       "             (1550, 0.9875),\n",
       "             (1560, 0.99),\n",
       "             (1570, 0.9925),\n",
       "             (1580, 0.9925),\n",
       "             (1590, 0.9975),\n",
       "             (1600, 1.0)])"
      ]
     },
     "execution_count": 107,
     "metadata": {},
     "output_type": "execute_result"
    }
   ],
   "source": [
    "#Initialize three kinds of classifiers\n",
    "svc = LinearSVC(max_iter=10000) #Support Vector Machine\n",
    "dtc = DecisionTreeClassifier() #Decision Tree\n",
    "knc = KNeighborsClassifier(n_jobs=-1) #K-Nearest Neighbors\n",
    "\n",
    "#K-value \n",
    "K = 10\n",
    "\n",
    "#Copy the data as it will be mutated\n",
    "q2_T = T.copy()\n",
    "q2_T_r = T_r.copy()\n",
    "test_data = test_data.copy()\n",
    "\n",
    "#Used to store results where key is the number of training data\n",
    "q2_results = OrderedDict()\n",
    "key=100\n",
    "\n",
    "#Repeat untill break (no more data)\n",
    "while True:\n",
    "    #Fit all three models using initial points\n",
    "    svc.fit(q2_T.drop(['label'],axis=1),q2_T['label'])\n",
    "    dtc.fit(q2_T.drop(['label'],axis=1),q2_T['label'])\n",
    "    knc.fit(q2_T.drop(['label'],axis=1),q2_T['label'])\n",
    "\n",
    "    \n",
    "    start = time.time()\n",
    "\n",
    "    #Store the test predictions in a dictionary\n",
    "    test_predictions = {\n",
    "        #Predictions are mapped to 1 or -1 for positive and negative respectively for easy voting\n",
    "        'svc': list(map(lambda x: 1 if x=='pos' else -1 ,svc.predict(test_data.drop(['label'],axis=1)))),\n",
    "        'dtc': list(map(lambda x: 1 if x=='pos' else -1 ,dtc.predict(test_data.drop(['label'],axis=1)))),\n",
    "        'knc': list(map(lambda x: 1 if x=='pos' else -1 ,knc.predict(test_data.drop(['label'],axis=1))))\n",
    "    }\n",
    "    \n",
    "    #If the sum of a data points 3 predictions is >= 1 then majority voted positive, otherwise negative\n",
    "    test_predictions = list(map(lambda a, b, c: 'pos' if (a+b+c)>=1 else 'neg', test_predictions['svc'], test_predictions['dtc'], test_predictions['knc']))\n",
    "    \n",
    "    #This could be turned into a zipped filter\n",
    "    #Caclulates the number of corect predictions and devides by total for accuracy\n",
    "    c=0\n",
    "    for i, j in zip(test_data['label'], test_predictions):\n",
    "        if i==j:\n",
    "            c+=1\n",
    "    q2_results[key]=[c/len(test_data['label'])]\n",
    "\n",
    "    #If there is data left to look through then use it\n",
    "    if (len(q2_T_r)>0):\n",
    "        #Predictions for remaining data are mapped to 1 or -1 for positive and negative respectively for easy voting\n",
    "        train_predictions = {\n",
    "            'svc': list(map(lambda x: 1 if x=='pos' else -1 ,svc.predict(q2_T_r.drop(['label'],axis=1)))),\n",
    "            'dtc': list(map(lambda x: 1 if x=='pos' else -1 ,dtc.predict(q2_T_r.drop(['label'],axis=1)))),\n",
    "            'knc': list(map(lambda x: 1 if x=='pos' else -1 ,knc.predict(q2_T_r.drop(['label'],axis=1))))\n",
    "        }\n",
    "        \n",
    "        #If the min sum of a data points 3 predictions is 1. Abs(sum) is used to classify as disagreeable or agreeable\n",
    "        q2_T_r['un'] = list(map(lambda a, b, c: 'disagree' if abs(a+b+c)<=1 else 'agree', train_predictions['svc'], train_predictions['dtc'], train_predictions['knc']))\n",
    "        \n",
    "        #Sort the values so disagreeable ones are on top\n",
    "        q2_T_r = q2_T_r.sort_values(by='un', ascending=False)\n",
    "        \n",
    "        #Add 10 disagreeable point to the training set\n",
    "        q2_T = pd.concat([q2_T,q2_T_r.head(K).drop(['un'],axis=1)], ignore_index = True)\n",
    "        \n",
    "        #Remove those points from the remainder set\n",
    "        q2_T_r = q2_T_r.iloc[K:].drop(['un'],axis=1)\n",
    "\n",
    "        end = time.time()\n",
    "        print(\"Samples:\"+str(key))\n",
    "        print(q2_results[key])\n",
    "        print(end - start)\n",
    "\n",
    "        key+=K\n",
    "\n",
    "    else: break\n",
    "\n",
    "        \n",
    "q2_results\n",
    "\n"
   ]
  },
  {
   "cell_type": "markdown",
   "metadata": {},
   "source": [
    "## Random Sampling"
   ]
  },
  {
   "cell_type": "code",
   "execution_count": 110,
   "metadata": {
    "scrolled": true
   },
   "outputs": [
    {
     "name": "stdout",
     "output_type": "stream",
     "text": [
      "Samples:100\n",
      "0.5\n",
      "0.04887533187866211\n",
      "Samples:110\n",
      "0.505\n",
      "0.04887509346008301\n",
      "Samples:120\n",
      "0.5225\n",
      "0.04883599281311035\n",
      "Samples:130\n",
      "0.505\n",
      "0.05884742736816406\n",
      "Samples:140\n",
      "0.5175\n",
      "0.07579684257507324\n",
      "Samples:150\n",
      "0.5075\n",
      "0.06682229042053223\n",
      "Samples:160\n",
      "0.515\n",
      "0.07081055641174316\n",
      "Samples:170\n",
      "0.4825\n",
      "0.06781768798828125\n",
      "Samples:180\n",
      "0.54\n",
      "0.06981992721557617\n",
      "Samples:190\n",
      "0.52\n",
      "0.0728142261505127\n",
      "Samples:200\n",
      "0.5075\n",
      "0.07779669761657715\n",
      "Samples:210\n",
      "0.5125\n",
      "0.07779407501220703\n",
      "Samples:220\n",
      "0.485\n",
      "0.08179283142089844\n",
      "Samples:230\n",
      "0.505\n",
      "0.08577919006347656\n",
      "Samples:240\n",
      "0.5125\n",
      "0.09474563598632812\n",
      "Samples:250\n",
      "0.525\n",
      "0.09075713157653809\n",
      "Samples:260\n",
      "0.51\n",
      "0.09873604774475098\n",
      "Samples:270\n",
      "0.495\n",
      "0.10073065757751465\n",
      "Samples:280\n",
      "0.5075\n",
      "0.12067770957946777\n",
      "Samples:290\n",
      "0.5025\n",
      "0.11871337890625\n",
      "Samples:300\n",
      "0.515\n",
      "0.11469101905822754\n",
      "Samples:310\n",
      "0.495\n",
      "0.11369466781616211\n",
      "Samples:320\n",
      "0.5025\n",
      "0.11269807815551758\n",
      "Samples:330\n",
      "0.5025\n",
      "0.11768412590026855\n",
      "Samples:340\n",
      "0.505\n",
      "0.12466692924499512\n",
      "Samples:350\n",
      "0.5125\n",
      "0.12765765190124512\n",
      "Samples:360\n",
      "0.5075\n",
      "0.1266615390777588\n",
      "Samples:370\n",
      "0.5225\n",
      "0.12862896919250488\n",
      "Samples:380\n",
      "0.51\n",
      "0.1296536922454834\n",
      "Samples:390\n",
      "0.485\n",
      "0.13464045524597168\n",
      "Samples:400\n",
      "0.515\n",
      "0.16156792640686035\n",
      "Samples:410\n",
      "0.4925\n",
      "0.15957188606262207\n",
      "Samples:420\n",
      "0.5\n",
      "0.14461159706115723\n",
      "Samples:430\n",
      "0.49\n",
      "0.153594970703125\n",
      "Samples:440\n",
      "0.5125\n",
      "0.1515963077545166\n",
      "Samples:450\n",
      "0.5075\n",
      "0.15957140922546387\n",
      "Samples:460\n",
      "0.4575\n",
      "0.15957212448120117\n",
      "Samples:470\n",
      "0.51\n",
      "0.16704320907592773\n",
      "Samples:480\n",
      "0.4775\n",
      "0.16356253623962402\n",
      "Samples:490\n",
      "0.4625\n",
      "0.1645655632019043\n",
      "Samples:500\n",
      "0.505\n",
      "0.17353510856628418\n",
      "Samples:510\n",
      "0.49\n",
      "0.17753052711486816\n",
      "Samples:520\n",
      "0.51\n",
      "0.17649388313293457\n",
      "Samples:530\n",
      "0.5125\n",
      "0.1865386962890625\n",
      "Samples:540\n",
      "0.51\n",
      "0.189497709274292\n",
      "Samples:550\n",
      "0.5025\n",
      "0.18749713897705078\n",
      "Samples:560\n",
      "0.5175\n",
      "0.21201777458190918\n",
      "Samples:570\n",
      "0.51\n",
      "0.19847345352172852\n",
      "Samples:580\n",
      "0.515\n",
      "0.1904916763305664\n",
      "Samples:590\n",
      "0.495\n",
      "0.2034614086151123\n",
      "Samples:600\n",
      "0.4925\n",
      "0.2084505558013916\n",
      "Samples:610\n",
      "0.47\n",
      "0.2224106788635254\n",
      "Samples:620\n",
      "0.4775\n",
      "0.21243762969970703\n",
      "Samples:630\n",
      "0.4675\n",
      "0.2174229621887207\n",
      "Samples:640\n",
      "0.525\n",
      "0.23288345336914062\n",
      "Samples:650\n",
      "0.5125\n",
      "0.22536611557006836\n",
      "Samples:660\n",
      "0.495\n",
      "0.23138046264648438\n",
      "Samples:670\n",
      "0.4625\n",
      "0.23894238471984863\n",
      "Samples:680\n",
      "0.5175\n",
      "0.23540806770324707\n",
      "Samples:690\n",
      "0.5275\n",
      "0.2333838939666748\n",
      "Samples:700\n",
      "0.5075\n",
      "0.24235153198242188\n",
      "Samples:710\n",
      "0.4925\n",
      "0.2403564453125\n",
      "Samples:720\n",
      "0.5175\n",
      "0.2652604579925537\n",
      "Samples:730\n",
      "0.5225\n",
      "0.2932615280151367\n",
      "Samples:740\n",
      "0.5225\n",
      "0.26332712173461914\n",
      "Samples:750\n",
      "0.52\n",
      "0.26154518127441406\n",
      "Samples:760\n",
      "0.5125\n",
      "0.27127528190612793\n",
      "Samples:770\n",
      "0.495\n",
      "0.25283050537109375\n",
      "Samples:780\n",
      "0.4875\n",
      "0.2593069076538086\n",
      "Samples:790\n",
      "0.4975\n",
      "0.27925610542297363\n"
     ]
    },
    {
     "name": "stderr",
     "output_type": "stream",
     "text": [
      "c:\\users\\k33robin\\appdata\\local\\programs\\python\\python37\\lib\\site-packages\\sklearn\\svm\\base.py:931: ConvergenceWarning: Liblinear failed to converge, increase the number of iterations.\n",
      "  \"the number of iterations.\", ConvergenceWarning)\n"
     ]
    },
    {
     "name": "stdout",
     "output_type": "stream",
     "text": [
      "Samples:800\n",
      "0.4825\n",
      "0.2682821750640869\n"
     ]
    },
    {
     "name": "stderr",
     "output_type": "stream",
     "text": [
      "c:\\users\\k33robin\\appdata\\local\\programs\\python\\python37\\lib\\site-packages\\sklearn\\svm\\base.py:931: ConvergenceWarning: Liblinear failed to converge, increase the number of iterations.\n",
      "  \"the number of iterations.\", ConvergenceWarning)\n"
     ]
    },
    {
     "name": "stdout",
     "output_type": "stream",
     "text": [
      "Samples:810\n",
      "0.535\n",
      "0.3012526035308838\n"
     ]
    },
    {
     "name": "stderr",
     "output_type": "stream",
     "text": [
      "c:\\users\\k33robin\\appdata\\local\\programs\\python\\python37\\lib\\site-packages\\sklearn\\svm\\base.py:931: ConvergenceWarning: Liblinear failed to converge, increase the number of iterations.\n",
      "  \"the number of iterations.\", ConvergenceWarning)\n"
     ]
    },
    {
     "name": "stdout",
     "output_type": "stream",
     "text": [
      "Samples:820\n",
      "0.5175\n",
      "0.3221743106842041\n"
     ]
    },
    {
     "name": "stderr",
     "output_type": "stream",
     "text": [
      "c:\\users\\k33robin\\appdata\\local\\programs\\python\\python37\\lib\\site-packages\\sklearn\\svm\\base.py:931: ConvergenceWarning: Liblinear failed to converge, increase the number of iterations.\n",
      "  \"the number of iterations.\", ConvergenceWarning)\n"
     ]
    },
    {
     "name": "stdout",
     "output_type": "stream",
     "text": [
      "Samples:830\n",
      "0.5375\n",
      "0.30419468879699707\n"
     ]
    },
    {
     "name": "stderr",
     "output_type": "stream",
     "text": [
      "c:\\users\\k33robin\\appdata\\local\\programs\\python\\python37\\lib\\site-packages\\sklearn\\svm\\base.py:931: ConvergenceWarning: Liblinear failed to converge, increase the number of iterations.\n",
      "  \"the number of iterations.\", ConvergenceWarning)\n"
     ]
    },
    {
     "name": "stdout",
     "output_type": "stream",
     "text": [
      "Samples:840\n",
      "0.54\n",
      "0.28324198722839355\n"
     ]
    },
    {
     "name": "stderr",
     "output_type": "stream",
     "text": [
      "c:\\users\\k33robin\\appdata\\local\\programs\\python\\python37\\lib\\site-packages\\sklearn\\svm\\base.py:931: ConvergenceWarning: Liblinear failed to converge, increase the number of iterations.\n",
      "  \"the number of iterations.\", ConvergenceWarning)\n"
     ]
    },
    {
     "name": "stdout",
     "output_type": "stream",
     "text": [
      "Samples:850\n",
      "0.505\n",
      "0.2872302532196045\n"
     ]
    },
    {
     "name": "stderr",
     "output_type": "stream",
     "text": [
      "c:\\users\\k33robin\\appdata\\local\\programs\\python\\python37\\lib\\site-packages\\sklearn\\svm\\base.py:931: ConvergenceWarning: Liblinear failed to converge, increase the number of iterations.\n",
      "  \"the number of iterations.\", ConvergenceWarning)\n"
     ]
    },
    {
     "name": "stdout",
     "output_type": "stream",
     "text": [
      "Samples:860\n",
      "0.52\n",
      "0.2921886444091797\n"
     ]
    },
    {
     "name": "stderr",
     "output_type": "stream",
     "text": [
      "c:\\users\\k33robin\\appdata\\local\\programs\\python\\python37\\lib\\site-packages\\sklearn\\svm\\base.py:931: ConvergenceWarning: Liblinear failed to converge, increase the number of iterations.\n",
      "  \"the number of iterations.\", ConvergenceWarning)\n"
     ]
    },
    {
     "name": "stdout",
     "output_type": "stream",
     "text": [
      "Samples:870\n",
      "0.5\n",
      "0.2943546772003174\n"
     ]
    },
    {
     "name": "stderr",
     "output_type": "stream",
     "text": [
      "c:\\users\\k33robin\\appdata\\local\\programs\\python\\python37\\lib\\site-packages\\sklearn\\svm\\base.py:931: ConvergenceWarning: Liblinear failed to converge, increase the number of iterations.\n",
      "  \"the number of iterations.\", ConvergenceWarning)\n"
     ]
    },
    {
     "name": "stdout",
     "output_type": "stream",
     "text": [
      "Samples:880\n",
      "0.5275\n",
      "0.3001995086669922\n"
     ]
    },
    {
     "name": "stderr",
     "output_type": "stream",
     "text": [
      "c:\\users\\k33robin\\appdata\\local\\programs\\python\\python37\\lib\\site-packages\\sklearn\\svm\\base.py:931: ConvergenceWarning: Liblinear failed to converge, increase the number of iterations.\n",
      "  \"the number of iterations.\", ConvergenceWarning)\n"
     ]
    },
    {
     "name": "stdout",
     "output_type": "stream",
     "text": [
      "Samples:890\n",
      "0.495\n",
      "0.3092076778411865\n"
     ]
    },
    {
     "name": "stderr",
     "output_type": "stream",
     "text": [
      "c:\\users\\k33robin\\appdata\\local\\programs\\python\\python37\\lib\\site-packages\\sklearn\\svm\\base.py:931: ConvergenceWarning: Liblinear failed to converge, increase the number of iterations.\n",
      "  \"the number of iterations.\", ConvergenceWarning)\n"
     ]
    },
    {
     "name": "stdout",
     "output_type": "stream",
     "text": [
      "Samples:900\n",
      "0.495\n",
      "0.30219054222106934\n"
     ]
    },
    {
     "name": "stderr",
     "output_type": "stream",
     "text": [
      "c:\\users\\k33robin\\appdata\\local\\programs\\python\\python37\\lib\\site-packages\\sklearn\\svm\\base.py:931: ConvergenceWarning: Liblinear failed to converge, increase the number of iterations.\n",
      "  \"the number of iterations.\", ConvergenceWarning)\n"
     ]
    },
    {
     "name": "stdout",
     "output_type": "stream",
     "text": [
      "Samples:910\n",
      "0.4975\n",
      "0.3031902313232422\n"
     ]
    },
    {
     "name": "stderr",
     "output_type": "stream",
     "text": [
      "c:\\users\\k33robin\\appdata\\local\\programs\\python\\python37\\lib\\site-packages\\sklearn\\svm\\base.py:931: ConvergenceWarning: Liblinear failed to converge, increase the number of iterations.\n",
      "  \"the number of iterations.\", ConvergenceWarning)\n"
     ]
    },
    {
     "name": "stdout",
     "output_type": "stream",
     "text": [
      "Samples:920\n",
      "0.4875\n",
      "0.3113689422607422\n"
     ]
    },
    {
     "name": "stderr",
     "output_type": "stream",
     "text": [
      "c:\\users\\k33robin\\appdata\\local\\programs\\python\\python37\\lib\\site-packages\\sklearn\\svm\\base.py:931: ConvergenceWarning: Liblinear failed to converge, increase the number of iterations.\n",
      "  \"the number of iterations.\", ConvergenceWarning)\n"
     ]
    },
    {
     "name": "stdout",
     "output_type": "stream",
     "text": [
      "Samples:930\n",
      "0.5175\n",
      "0.31818413734436035\n"
     ]
    },
    {
     "name": "stderr",
     "output_type": "stream",
     "text": [
      "c:\\users\\k33robin\\appdata\\local\\programs\\python\\python37\\lib\\site-packages\\sklearn\\svm\\base.py:931: ConvergenceWarning: Liblinear failed to converge, increase the number of iterations.\n",
      "  \"the number of iterations.\", ConvergenceWarning)\n"
     ]
    },
    {
     "name": "stdout",
     "output_type": "stream",
     "text": [
      "Samples:940\n",
      "0.5225\n",
      "0.3071427345275879\n"
     ]
    },
    {
     "name": "stderr",
     "output_type": "stream",
     "text": [
      "c:\\users\\k33robin\\appdata\\local\\programs\\python\\python37\\lib\\site-packages\\sklearn\\svm\\base.py:931: ConvergenceWarning: Liblinear failed to converge, increase the number of iterations.\n",
      "  \"the number of iterations.\", ConvergenceWarning)\n"
     ]
    },
    {
     "name": "stdout",
     "output_type": "stream",
     "text": [
      "Samples:950\n",
      "0.4875\n",
      "0.3390929698944092\n"
     ]
    },
    {
     "name": "stderr",
     "output_type": "stream",
     "text": [
      "c:\\users\\k33robin\\appdata\\local\\programs\\python\\python37\\lib\\site-packages\\sklearn\\svm\\base.py:931: ConvergenceWarning: Liblinear failed to converge, increase the number of iterations.\n",
      "  \"the number of iterations.\", ConvergenceWarning)\n"
     ]
    },
    {
     "name": "stdout",
     "output_type": "stream",
     "text": [
      "Samples:960\n",
      "0.4775\n",
      "0.42482995986938477\n"
     ]
    },
    {
     "name": "stderr",
     "output_type": "stream",
     "text": [
      "c:\\users\\k33robin\\appdata\\local\\programs\\python\\python37\\lib\\site-packages\\sklearn\\svm\\base.py:931: ConvergenceWarning: Liblinear failed to converge, increase the number of iterations.\n",
      "  \"the number of iterations.\", ConvergenceWarning)\n"
     ]
    },
    {
     "name": "stdout",
     "output_type": "stream",
     "text": [
      "Samples:970\n",
      "0.495\n",
      "0.3763415813446045\n"
     ]
    },
    {
     "name": "stderr",
     "output_type": "stream",
     "text": [
      "c:\\users\\k33robin\\appdata\\local\\programs\\python\\python37\\lib\\site-packages\\sklearn\\svm\\base.py:931: ConvergenceWarning: Liblinear failed to converge, increase the number of iterations.\n",
      "  \"the number of iterations.\", ConvergenceWarning)\n"
     ]
    },
    {
     "name": "stdout",
     "output_type": "stream",
     "text": [
      "Samples:980\n",
      "0.4975\n",
      "0.38394951820373535\n"
     ]
    },
    {
     "name": "stderr",
     "output_type": "stream",
     "text": [
      "c:\\users\\k33robin\\appdata\\local\\programs\\python\\python37\\lib\\site-packages\\sklearn\\svm\\base.py:931: ConvergenceWarning: Liblinear failed to converge, increase the number of iterations.\n",
      "  \"the number of iterations.\", ConvergenceWarning)\n"
     ]
    },
    {
     "name": "stdout",
     "output_type": "stream",
     "text": [
      "Samples:990\n",
      "0.4725\n",
      "0.418576717376709\n"
     ]
    },
    {
     "name": "stderr",
     "output_type": "stream",
     "text": [
      "c:\\users\\k33robin\\appdata\\local\\programs\\python\\python37\\lib\\site-packages\\sklearn\\svm\\base.py:931: ConvergenceWarning: Liblinear failed to converge, increase the number of iterations.\n",
      "  \"the number of iterations.\", ConvergenceWarning)\n"
     ]
    },
    {
     "name": "stdout",
     "output_type": "stream",
     "text": [
      "Samples:1000\n",
      "0.4825\n",
      "0.41210460662841797\n"
     ]
    },
    {
     "name": "stderr",
     "output_type": "stream",
     "text": [
      "c:\\users\\k33robin\\appdata\\local\\programs\\python\\python37\\lib\\site-packages\\sklearn\\svm\\base.py:931: ConvergenceWarning: Liblinear failed to converge, increase the number of iterations.\n",
      "  \"the number of iterations.\", ConvergenceWarning)\n"
     ]
    },
    {
     "name": "stdout",
     "output_type": "stream",
     "text": [
      "Samples:1010\n",
      "0.51\n",
      "0.40395617485046387\n"
     ]
    },
    {
     "name": "stderr",
     "output_type": "stream",
     "text": [
      "c:\\users\\k33robin\\appdata\\local\\programs\\python\\python37\\lib\\site-packages\\sklearn\\svm\\base.py:931: ConvergenceWarning: Liblinear failed to converge, increase the number of iterations.\n",
      "  \"the number of iterations.\", ConvergenceWarning)\n"
     ]
    },
    {
     "name": "stdout",
     "output_type": "stream",
     "text": [
      "Samples:1020\n",
      "0.4825\n",
      "0.40008068084716797\n"
     ]
    },
    {
     "name": "stderr",
     "output_type": "stream",
     "text": [
      "c:\\users\\k33robin\\appdata\\local\\programs\\python\\python37\\lib\\site-packages\\sklearn\\svm\\base.py:931: ConvergenceWarning: Liblinear failed to converge, increase the number of iterations.\n",
      "  \"the number of iterations.\", ConvergenceWarning)\n"
     ]
    },
    {
     "name": "stdout",
     "output_type": "stream",
     "text": [
      "Samples:1030\n",
      "0.48\n",
      "0.41723084449768066\n"
     ]
    },
    {
     "name": "stderr",
     "output_type": "stream",
     "text": [
      "c:\\users\\k33robin\\appdata\\local\\programs\\python\\python37\\lib\\site-packages\\sklearn\\svm\\base.py:931: ConvergenceWarning: Liblinear failed to converge, increase the number of iterations.\n",
      "  \"the number of iterations.\", ConvergenceWarning)\n"
     ]
    },
    {
     "name": "stdout",
     "output_type": "stream",
     "text": [
      "Samples:1040\n",
      "0.5\n",
      "0.433652400970459\n"
     ]
    },
    {
     "name": "stderr",
     "output_type": "stream",
     "text": [
      "c:\\users\\k33robin\\appdata\\local\\programs\\python\\python37\\lib\\site-packages\\sklearn\\svm\\base.py:931: ConvergenceWarning: Liblinear failed to converge, increase the number of iterations.\n",
      "  \"the number of iterations.\", ConvergenceWarning)\n"
     ]
    },
    {
     "name": "stdout",
     "output_type": "stream",
     "text": [
      "Samples:1050\n",
      "0.4675\n",
      "0.4349653720855713\n"
     ]
    },
    {
     "name": "stderr",
     "output_type": "stream",
     "text": [
      "c:\\users\\k33robin\\appdata\\local\\programs\\python\\python37\\lib\\site-packages\\sklearn\\svm\\base.py:931: ConvergenceWarning: Liblinear failed to converge, increase the number of iterations.\n",
      "  \"the number of iterations.\", ConvergenceWarning)\n"
     ]
    },
    {
     "name": "stdout",
     "output_type": "stream",
     "text": [
      "Samples:1060\n",
      "0.4675\n",
      "0.4922053813934326\n"
     ]
    },
    {
     "name": "stderr",
     "output_type": "stream",
     "text": [
      "c:\\users\\k33robin\\appdata\\local\\programs\\python\\python37\\lib\\site-packages\\sklearn\\svm\\base.py:931: ConvergenceWarning: Liblinear failed to converge, increase the number of iterations.\n",
      "  \"the number of iterations.\", ConvergenceWarning)\n"
     ]
    },
    {
     "name": "stdout",
     "output_type": "stream",
     "text": [
      "Samples:1070\n",
      "0.4625\n",
      "0.43203091621398926\n"
     ]
    },
    {
     "name": "stderr",
     "output_type": "stream",
     "text": [
      "c:\\users\\k33robin\\appdata\\local\\programs\\python\\python37\\lib\\site-packages\\sklearn\\svm\\base.py:931: ConvergenceWarning: Liblinear failed to converge, increase the number of iterations.\n",
      "  \"the number of iterations.\", ConvergenceWarning)\n"
     ]
    },
    {
     "name": "stdout",
     "output_type": "stream",
     "text": [
      "Samples:1080\n",
      "0.4975\n",
      "0.46747660636901855\n"
     ]
    },
    {
     "name": "stderr",
     "output_type": "stream",
     "text": [
      "c:\\users\\k33robin\\appdata\\local\\programs\\python\\python37\\lib\\site-packages\\sklearn\\svm\\base.py:931: ConvergenceWarning: Liblinear failed to converge, increase the number of iterations.\n",
      "  \"the number of iterations.\", ConvergenceWarning)\n"
     ]
    },
    {
     "name": "stdout",
     "output_type": "stream",
     "text": [
      "Samples:1090\n",
      "0.445\n",
      "0.489926815032959\n"
     ]
    },
    {
     "name": "stderr",
     "output_type": "stream",
     "text": [
      "c:\\users\\k33robin\\appdata\\local\\programs\\python\\python37\\lib\\site-packages\\sklearn\\svm\\base.py:931: ConvergenceWarning: Liblinear failed to converge, increase the number of iterations.\n",
      "  \"the number of iterations.\", ConvergenceWarning)\n"
     ]
    },
    {
     "name": "stdout",
     "output_type": "stream",
     "text": [
      "Samples:1100\n",
      "0.465\n",
      "0.44437193870544434\n"
     ]
    },
    {
     "name": "stderr",
     "output_type": "stream",
     "text": [
      "c:\\users\\k33robin\\appdata\\local\\programs\\python\\python37\\lib\\site-packages\\sklearn\\svm\\base.py:931: ConvergenceWarning: Liblinear failed to converge, increase the number of iterations.\n",
      "  \"the number of iterations.\", ConvergenceWarning)\n"
     ]
    },
    {
     "name": "stdout",
     "output_type": "stream",
     "text": [
      "Samples:1110\n",
      "0.49\n",
      "0.469318151473999\n"
     ]
    },
    {
     "name": "stderr",
     "output_type": "stream",
     "text": [
      "c:\\users\\k33robin\\appdata\\local\\programs\\python\\python37\\lib\\site-packages\\sklearn\\svm\\base.py:931: ConvergenceWarning: Liblinear failed to converge, increase the number of iterations.\n",
      "  \"the number of iterations.\", ConvergenceWarning)\n"
     ]
    },
    {
     "name": "stdout",
     "output_type": "stream",
     "text": [
      "Samples:1120\n",
      "0.5\n",
      "0.46735095977783203\n"
     ]
    },
    {
     "name": "stderr",
     "output_type": "stream",
     "text": [
      "c:\\users\\k33robin\\appdata\\local\\programs\\python\\python37\\lib\\site-packages\\sklearn\\svm\\base.py:931: ConvergenceWarning: Liblinear failed to converge, increase the number of iterations.\n",
      "  \"the number of iterations.\", ConvergenceWarning)\n"
     ]
    },
    {
     "name": "stdout",
     "output_type": "stream",
     "text": [
      "Samples:1130\n",
      "0.47\n",
      "0.4870870113372803\n"
     ]
    },
    {
     "name": "stderr",
     "output_type": "stream",
     "text": [
      "c:\\users\\k33robin\\appdata\\local\\programs\\python\\python37\\lib\\site-packages\\sklearn\\svm\\base.py:931: ConvergenceWarning: Liblinear failed to converge, increase the number of iterations.\n",
      "  \"the number of iterations.\", ConvergenceWarning)\n"
     ]
    },
    {
     "name": "stdout",
     "output_type": "stream",
     "text": [
      "Samples:1140\n",
      "0.475\n",
      "0.4575982093811035\n"
     ]
    },
    {
     "name": "stderr",
     "output_type": "stream",
     "text": [
      "c:\\users\\k33robin\\appdata\\local\\programs\\python\\python37\\lib\\site-packages\\sklearn\\svm\\base.py:931: ConvergenceWarning: Liblinear failed to converge, increase the number of iterations.\n",
      "  \"the number of iterations.\", ConvergenceWarning)\n"
     ]
    },
    {
     "name": "stdout",
     "output_type": "stream",
     "text": [
      "Samples:1150\n",
      "0.5\n",
      "0.40592384338378906\n"
     ]
    },
    {
     "name": "stderr",
     "output_type": "stream",
     "text": [
      "c:\\users\\k33robin\\appdata\\local\\programs\\python\\python37\\lib\\site-packages\\sklearn\\svm\\base.py:931: ConvergenceWarning: Liblinear failed to converge, increase the number of iterations.\n",
      "  \"the number of iterations.\", ConvergenceWarning)\n"
     ]
    },
    {
     "name": "stdout",
     "output_type": "stream",
     "text": [
      "Samples:1160\n",
      "0.485\n",
      "0.38597607612609863\n"
     ]
    },
    {
     "name": "stderr",
     "output_type": "stream",
     "text": [
      "c:\\users\\k33robin\\appdata\\local\\programs\\python\\python37\\lib\\site-packages\\sklearn\\svm\\base.py:931: ConvergenceWarning: Liblinear failed to converge, increase the number of iterations.\n",
      "  \"the number of iterations.\", ConvergenceWarning)\n"
     ]
    },
    {
     "name": "stdout",
     "output_type": "stream",
     "text": [
      "Samples:1170\n",
      "0.4875\n",
      "0.40791821479797363\n"
     ]
    },
    {
     "name": "stderr",
     "output_type": "stream",
     "text": [
      "c:\\users\\k33robin\\appdata\\local\\programs\\python\\python37\\lib\\site-packages\\sklearn\\svm\\base.py:931: ConvergenceWarning: Liblinear failed to converge, increase the number of iterations.\n",
      "  \"the number of iterations.\", ConvergenceWarning)\n"
     ]
    },
    {
     "name": "stdout",
     "output_type": "stream",
     "text": [
      "Samples:1180\n",
      "0.505\n",
      "0.3869636058807373\n"
     ]
    },
    {
     "name": "stderr",
     "output_type": "stream",
     "text": [
      "c:\\users\\k33robin\\appdata\\local\\programs\\python\\python37\\lib\\site-packages\\sklearn\\svm\\base.py:931: ConvergenceWarning: Liblinear failed to converge, increase the number of iterations.\n",
      "  \"the number of iterations.\", ConvergenceWarning)\n"
     ]
    },
    {
     "name": "stdout",
     "output_type": "stream",
     "text": [
      "Samples:1190\n",
      "0.4875\n",
      "0.3961048126220703\n"
     ]
    },
    {
     "name": "stderr",
     "output_type": "stream",
     "text": [
      "c:\\users\\k33robin\\appdata\\local\\programs\\python\\python37\\lib\\site-packages\\sklearn\\svm\\base.py:931: ConvergenceWarning: Liblinear failed to converge, increase the number of iterations.\n",
      "  \"the number of iterations.\", ConvergenceWarning)\n"
     ]
    },
    {
     "name": "stdout",
     "output_type": "stream",
     "text": [
      "Samples:1200\n",
      "0.5025\n",
      "0.3979370594024658\n"
     ]
    },
    {
     "name": "stderr",
     "output_type": "stream",
     "text": [
      "c:\\users\\k33robin\\appdata\\local\\programs\\python\\python37\\lib\\site-packages\\sklearn\\svm\\base.py:931: ConvergenceWarning: Liblinear failed to converge, increase the number of iterations.\n",
      "  \"the number of iterations.\", ConvergenceWarning)\n"
     ]
    },
    {
     "name": "stdout",
     "output_type": "stream",
     "text": [
      "Samples:1210\n",
      "0.5\n",
      "0.40309762954711914\n"
     ]
    },
    {
     "name": "stderr",
     "output_type": "stream",
     "text": [
      "c:\\users\\k33robin\\appdata\\local\\programs\\python\\python37\\lib\\site-packages\\sklearn\\svm\\base.py:931: ConvergenceWarning: Liblinear failed to converge, increase the number of iterations.\n",
      "  \"the number of iterations.\", ConvergenceWarning)\n"
     ]
    },
    {
     "name": "stdout",
     "output_type": "stream",
     "text": [
      "Samples:1220\n",
      "0.505\n",
      "0.41531944274902344\n"
     ]
    },
    {
     "name": "stderr",
     "output_type": "stream",
     "text": [
      "c:\\users\\k33robin\\appdata\\local\\programs\\python\\python37\\lib\\site-packages\\sklearn\\svm\\base.py:931: ConvergenceWarning: Liblinear failed to converge, increase the number of iterations.\n",
      "  \"the number of iterations.\", ConvergenceWarning)\n"
     ]
    },
    {
     "name": "stdout",
     "output_type": "stream",
     "text": [
      "Samples:1230\n",
      "0.535\n",
      "0.41788601875305176\n"
     ]
    },
    {
     "name": "stderr",
     "output_type": "stream",
     "text": [
      "c:\\users\\k33robin\\appdata\\local\\programs\\python\\python37\\lib\\site-packages\\sklearn\\svm\\base.py:931: ConvergenceWarning: Liblinear failed to converge, increase the number of iterations.\n",
      "  \"the number of iterations.\", ConvergenceWarning)\n"
     ]
    },
    {
     "name": "stdout",
     "output_type": "stream",
     "text": [
      "Samples:1240\n",
      "0.5325\n",
      "0.40691375732421875\n"
     ]
    },
    {
     "name": "stderr",
     "output_type": "stream",
     "text": [
      "c:\\users\\k33robin\\appdata\\local\\programs\\python\\python37\\lib\\site-packages\\sklearn\\svm\\base.py:931: ConvergenceWarning: Liblinear failed to converge, increase the number of iterations.\n",
      "  \"the number of iterations.\", ConvergenceWarning)\n"
     ]
    },
    {
     "name": "stdout",
     "output_type": "stream",
     "text": [
      "Samples:1250\n",
      "0.5875\n",
      "0.4088711738586426\n"
     ]
    },
    {
     "name": "stderr",
     "output_type": "stream",
     "text": [
      "c:\\users\\k33robin\\appdata\\local\\programs\\python\\python37\\lib\\site-packages\\sklearn\\svm\\base.py:931: ConvergenceWarning: Liblinear failed to converge, increase the number of iterations.\n",
      "  \"the number of iterations.\", ConvergenceWarning)\n"
     ]
    },
    {
     "name": "stdout",
     "output_type": "stream",
     "text": [
      "Samples:1260\n",
      "0.5625\n",
      "0.41988682746887207\n"
     ]
    },
    {
     "name": "stderr",
     "output_type": "stream",
     "text": [
      "c:\\users\\k33robin\\appdata\\local\\programs\\python\\python37\\lib\\site-packages\\sklearn\\svm\\base.py:931: ConvergenceWarning: Liblinear failed to converge, increase the number of iterations.\n",
      "  \"the number of iterations.\", ConvergenceWarning)\n"
     ]
    },
    {
     "name": "stdout",
     "output_type": "stream",
     "text": [
      "Samples:1270\n",
      "0.54\n",
      "0.41489171981811523\n"
     ]
    },
    {
     "name": "stderr",
     "output_type": "stream",
     "text": [
      "c:\\users\\k33robin\\appdata\\local\\programs\\python\\python37\\lib\\site-packages\\sklearn\\svm\\base.py:931: ConvergenceWarning: Liblinear failed to converge, increase the number of iterations.\n",
      "  \"the number of iterations.\", ConvergenceWarning)\n"
     ]
    },
    {
     "name": "stdout",
     "output_type": "stream",
     "text": [
      "Samples:1280\n",
      "0.5675\n",
      "0.4528007507324219\n"
     ]
    },
    {
     "name": "stderr",
     "output_type": "stream",
     "text": [
      "c:\\users\\k33robin\\appdata\\local\\programs\\python\\python37\\lib\\site-packages\\sklearn\\svm\\base.py:931: ConvergenceWarning: Liblinear failed to converge, increase the number of iterations.\n",
      "  \"the number of iterations.\", ConvergenceWarning)\n"
     ]
    },
    {
     "name": "stdout",
     "output_type": "stream",
     "text": [
      "Samples:1290\n",
      "0.5825\n",
      "0.421872615814209\n"
     ]
    },
    {
     "name": "stderr",
     "output_type": "stream",
     "text": [
      "c:\\users\\k33robin\\appdata\\local\\programs\\python\\python37\\lib\\site-packages\\sklearn\\svm\\base.py:931: ConvergenceWarning: Liblinear failed to converge, increase the number of iterations.\n",
      "  \"the number of iterations.\", ConvergenceWarning)\n"
     ]
    },
    {
     "name": "stdout",
     "output_type": "stream",
     "text": [
      "Samples:1300\n",
      "0.6175\n",
      "0.4198765754699707\n"
     ]
    },
    {
     "name": "stderr",
     "output_type": "stream",
     "text": [
      "c:\\users\\k33robin\\appdata\\local\\programs\\python\\python37\\lib\\site-packages\\sklearn\\svm\\base.py:931: ConvergenceWarning: Liblinear failed to converge, increase the number of iterations.\n",
      "  \"the number of iterations.\", ConvergenceWarning)\n"
     ]
    },
    {
     "name": "stdout",
     "output_type": "stream",
     "text": [
      "Samples:1310\n",
      "0.6225\n",
      "0.4448087215423584\n"
     ]
    },
    {
     "name": "stderr",
     "output_type": "stream",
     "text": [
      "c:\\users\\k33robin\\appdata\\local\\programs\\python\\python37\\lib\\site-packages\\sklearn\\svm\\base.py:931: ConvergenceWarning: Liblinear failed to converge, increase the number of iterations.\n",
      "  \"the number of iterations.\", ConvergenceWarning)\n"
     ]
    },
    {
     "name": "stdout",
     "output_type": "stream",
     "text": [
      "Samples:1320\n",
      "0.635\n",
      "0.4418191909790039\n"
     ]
    },
    {
     "name": "stderr",
     "output_type": "stream",
     "text": [
      "c:\\users\\k33robin\\appdata\\local\\programs\\python\\python37\\lib\\site-packages\\sklearn\\svm\\base.py:931: ConvergenceWarning: Liblinear failed to converge, increase the number of iterations.\n",
      "  \"the number of iterations.\", ConvergenceWarning)\n"
     ]
    },
    {
     "name": "stdout",
     "output_type": "stream",
     "text": [
      "Samples:1330\n",
      "0.67\n",
      "0.438831090927124\n"
     ]
    },
    {
     "name": "stderr",
     "output_type": "stream",
     "text": [
      "c:\\users\\k33robin\\appdata\\local\\programs\\python\\python37\\lib\\site-packages\\sklearn\\svm\\base.py:931: ConvergenceWarning: Liblinear failed to converge, increase the number of iterations.\n",
      "  \"the number of iterations.\", ConvergenceWarning)\n"
     ]
    },
    {
     "name": "stdout",
     "output_type": "stream",
     "text": [
      "Samples:1340\n",
      "0.675\n",
      "0.4433925151824951\n"
     ]
    },
    {
     "name": "stderr",
     "output_type": "stream",
     "text": [
      "c:\\users\\k33robin\\appdata\\local\\programs\\python\\python37\\lib\\site-packages\\sklearn\\svm\\base.py:931: ConvergenceWarning: Liblinear failed to converge, increase the number of iterations.\n",
      "  \"the number of iterations.\", ConvergenceWarning)\n"
     ]
    },
    {
     "name": "stdout",
     "output_type": "stream",
     "text": [
      "Samples:1350\n",
      "0.7025\n",
      "0.4628016948699951\n"
     ]
    },
    {
     "name": "stderr",
     "output_type": "stream",
     "text": [
      "c:\\users\\k33robin\\appdata\\local\\programs\\python\\python37\\lib\\site-packages\\sklearn\\svm\\base.py:931: ConvergenceWarning: Liblinear failed to converge, increase the number of iterations.\n",
      "  \"the number of iterations.\", ConvergenceWarning)\n"
     ]
    },
    {
     "name": "stdout",
     "output_type": "stream",
     "text": [
      "Samples:1360\n",
      "0.6975\n",
      "0.4508037567138672\n"
     ]
    },
    {
     "name": "stderr",
     "output_type": "stream",
     "text": [
      "c:\\users\\k33robin\\appdata\\local\\programs\\python\\python37\\lib\\site-packages\\sklearn\\svm\\base.py:931: ConvergenceWarning: Liblinear failed to converge, increase the number of iterations.\n",
      "  \"the number of iterations.\", ConvergenceWarning)\n"
     ]
    },
    {
     "name": "stdout",
     "output_type": "stream",
     "text": [
      "Samples:1370\n",
      "0.7275\n",
      "0.4487745761871338\n"
     ]
    },
    {
     "name": "stderr",
     "output_type": "stream",
     "text": [
      "c:\\users\\k33robin\\appdata\\local\\programs\\python\\python37\\lib\\site-packages\\sklearn\\svm\\base.py:931: ConvergenceWarning: Liblinear failed to converge, increase the number of iterations.\n",
      "  \"the number of iterations.\", ConvergenceWarning)\n"
     ]
    },
    {
     "name": "stdout",
     "output_type": "stream",
     "text": [
      "Samples:1380\n",
      "0.73\n",
      "0.4557516574859619\n"
     ]
    },
    {
     "name": "stderr",
     "output_type": "stream",
     "text": [
      "c:\\users\\k33robin\\appdata\\local\\programs\\python\\python37\\lib\\site-packages\\sklearn\\svm\\base.py:931: ConvergenceWarning: Liblinear failed to converge, increase the number of iterations.\n",
      "  \"the number of iterations.\", ConvergenceWarning)\n"
     ]
    },
    {
     "name": "stdout",
     "output_type": "stream",
     "text": [
      "Samples:1390\n",
      "0.7325\n",
      "0.4554882049560547\n"
     ]
    },
    {
     "name": "stderr",
     "output_type": "stream",
     "text": [
      "c:\\users\\k33robin\\appdata\\local\\programs\\python\\python37\\lib\\site-packages\\sklearn\\svm\\base.py:931: ConvergenceWarning: Liblinear failed to converge, increase the number of iterations.\n",
      "  \"the number of iterations.\", ConvergenceWarning)\n"
     ]
    },
    {
     "name": "stdout",
     "output_type": "stream",
     "text": [
      "Samples:1400\n",
      "0.7425\n",
      "0.4607658386230469\n"
     ]
    },
    {
     "name": "stderr",
     "output_type": "stream",
     "text": [
      "c:\\users\\k33robin\\appdata\\local\\programs\\python\\python37\\lib\\site-packages\\sklearn\\svm\\base.py:931: ConvergenceWarning: Liblinear failed to converge, increase the number of iterations.\n",
      "  \"the number of iterations.\", ConvergenceWarning)\n"
     ]
    },
    {
     "name": "stdout",
     "output_type": "stream",
     "text": [
      "Samples:1410\n",
      "0.745\n",
      "0.4807419776916504\n"
     ]
    },
    {
     "name": "stderr",
     "output_type": "stream",
     "text": [
      "c:\\users\\k33robin\\appdata\\local\\programs\\python\\python37\\lib\\site-packages\\sklearn\\svm\\base.py:931: ConvergenceWarning: Liblinear failed to converge, increase the number of iterations.\n",
      "  \"the number of iterations.\", ConvergenceWarning)\n"
     ]
    },
    {
     "name": "stdout",
     "output_type": "stream",
     "text": [
      "Samples:1420\n",
      "0.7525\n",
      "0.4847257137298584\n"
     ]
    },
    {
     "name": "stderr",
     "output_type": "stream",
     "text": [
      "c:\\users\\k33robin\\appdata\\local\\programs\\python\\python37\\lib\\site-packages\\sklearn\\svm\\base.py:931: ConvergenceWarning: Liblinear failed to converge, increase the number of iterations.\n",
      "  \"the number of iterations.\", ConvergenceWarning)\n"
     ]
    },
    {
     "name": "stdout",
     "output_type": "stream",
     "text": [
      "Samples:1430\n",
      "0.7775\n",
      "0.48187685012817383\n"
     ]
    },
    {
     "name": "stderr",
     "output_type": "stream",
     "text": [
      "c:\\users\\k33robin\\appdata\\local\\programs\\python\\python37\\lib\\site-packages\\sklearn\\svm\\base.py:931: ConvergenceWarning: Liblinear failed to converge, increase the number of iterations.\n",
      "  \"the number of iterations.\", ConvergenceWarning)\n"
     ]
    },
    {
     "name": "stdout",
     "output_type": "stream",
     "text": [
      "Samples:1440\n",
      "0.805\n",
      "0.5096681118011475\n"
     ]
    },
    {
     "name": "stderr",
     "output_type": "stream",
     "text": [
      "c:\\users\\k33robin\\appdata\\local\\programs\\python\\python37\\lib\\site-packages\\sklearn\\svm\\base.py:931: ConvergenceWarning: Liblinear failed to converge, increase the number of iterations.\n",
      "  \"the number of iterations.\", ConvergenceWarning)\n"
     ]
    },
    {
     "name": "stdout",
     "output_type": "stream",
     "text": [
      "Samples:1450\n",
      "0.8125\n",
      "0.4817371368408203\n"
     ]
    },
    {
     "name": "stderr",
     "output_type": "stream",
     "text": [
      "c:\\users\\k33robin\\appdata\\local\\programs\\python\\python37\\lib\\site-packages\\sklearn\\svm\\base.py:931: ConvergenceWarning: Liblinear failed to converge, increase the number of iterations.\n",
      "  \"the number of iterations.\", ConvergenceWarning)\n"
     ]
    },
    {
     "name": "stdout",
     "output_type": "stream",
     "text": [
      "Samples:1460\n",
      "0.835\n",
      "0.4757504463195801\n"
     ]
    },
    {
     "name": "stderr",
     "output_type": "stream",
     "text": [
      "c:\\users\\k33robin\\appdata\\local\\programs\\python\\python37\\lib\\site-packages\\sklearn\\svm\\base.py:931: ConvergenceWarning: Liblinear failed to converge, increase the number of iterations.\n",
      "  \"the number of iterations.\", ConvergenceWarning)\n"
     ]
    },
    {
     "name": "stdout",
     "output_type": "stream",
     "text": [
      "Samples:1470\n",
      "0.8425\n",
      "0.48174118995666504\n"
     ]
    },
    {
     "name": "stderr",
     "output_type": "stream",
     "text": [
      "c:\\users\\k33robin\\appdata\\local\\programs\\python\\python37\\lib\\site-packages\\sklearn\\svm\\base.py:931: ConvergenceWarning: Liblinear failed to converge, increase the number of iterations.\n",
      "  \"the number of iterations.\", ConvergenceWarning)\n"
     ]
    },
    {
     "name": "stdout",
     "output_type": "stream",
     "text": [
      "Samples:1480\n",
      "0.85\n",
      "0.5147955417633057\n"
     ]
    },
    {
     "name": "stderr",
     "output_type": "stream",
     "text": [
      "c:\\users\\k33robin\\appdata\\local\\programs\\python\\python37\\lib\\site-packages\\sklearn\\svm\\base.py:931: ConvergenceWarning: Liblinear failed to converge, increase the number of iterations.\n",
      "  \"the number of iterations.\", ConvergenceWarning)\n"
     ]
    },
    {
     "name": "stdout",
     "output_type": "stream",
     "text": [
      "Samples:1490\n",
      "0.8575\n",
      "0.4762556552886963\n"
     ]
    },
    {
     "name": "stderr",
     "output_type": "stream",
     "text": [
      "c:\\users\\k33robin\\appdata\\local\\programs\\python\\python37\\lib\\site-packages\\sklearn\\svm\\base.py:931: ConvergenceWarning: Liblinear failed to converge, increase the number of iterations.\n",
      "  \"the number of iterations.\", ConvergenceWarning)\n"
     ]
    },
    {
     "name": "stdout",
     "output_type": "stream",
     "text": [
      "Samples:1500\n",
      "0.8675\n",
      "0.5206334590911865\n"
     ]
    },
    {
     "name": "stderr",
     "output_type": "stream",
     "text": [
      "c:\\users\\k33robin\\appdata\\local\\programs\\python\\python37\\lib\\site-packages\\sklearn\\svm\\base.py:931: ConvergenceWarning: Liblinear failed to converge, increase the number of iterations.\n",
      "  \"the number of iterations.\", ConvergenceWarning)\n"
     ]
    },
    {
     "name": "stdout",
     "output_type": "stream",
     "text": [
      "Samples:1510\n",
      "0.9025\n",
      "0.4976541996002197\n"
     ]
    },
    {
     "name": "stderr",
     "output_type": "stream",
     "text": [
      "c:\\users\\k33robin\\appdata\\local\\programs\\python\\python37\\lib\\site-packages\\sklearn\\svm\\base.py:931: ConvergenceWarning: Liblinear failed to converge, increase the number of iterations.\n",
      "  \"the number of iterations.\", ConvergenceWarning)\n"
     ]
    },
    {
     "name": "stdout",
     "output_type": "stream",
     "text": [
      "Samples:1520\n",
      "0.9175\n",
      "0.5037345886230469\n"
     ]
    },
    {
     "name": "stderr",
     "output_type": "stream",
     "text": [
      "c:\\users\\k33robin\\appdata\\local\\programs\\python\\python37\\lib\\site-packages\\sklearn\\svm\\base.py:931: ConvergenceWarning: Liblinear failed to converge, increase the number of iterations.\n",
      "  \"the number of iterations.\", ConvergenceWarning)\n"
     ]
    },
    {
     "name": "stdout",
     "output_type": "stream",
     "text": [
      "Samples:1530\n",
      "0.93\n",
      "0.5146081447601318\n"
     ]
    },
    {
     "name": "stderr",
     "output_type": "stream",
     "text": [
      "c:\\users\\k33robin\\appdata\\local\\programs\\python\\python37\\lib\\site-packages\\sklearn\\svm\\base.py:931: ConvergenceWarning: Liblinear failed to converge, increase the number of iterations.\n",
      "  \"the number of iterations.\", ConvergenceWarning)\n"
     ]
    },
    {
     "name": "stdout",
     "output_type": "stream",
     "text": [
      "Samples:1540\n",
      "0.9375\n",
      "0.5006821155548096\n"
     ]
    },
    {
     "name": "stderr",
     "output_type": "stream",
     "text": [
      "c:\\users\\k33robin\\appdata\\local\\programs\\python\\python37\\lib\\site-packages\\sklearn\\svm\\base.py:931: ConvergenceWarning: Liblinear failed to converge, increase the number of iterations.\n",
      "  \"the number of iterations.\", ConvergenceWarning)\n"
     ]
    },
    {
     "name": "stdout",
     "output_type": "stream",
     "text": [
      "Samples:1550\n",
      "0.9525\n",
      "0.523658037185669\n"
     ]
    },
    {
     "name": "stderr",
     "output_type": "stream",
     "text": [
      "c:\\users\\k33robin\\appdata\\local\\programs\\python\\python37\\lib\\site-packages\\sklearn\\svm\\base.py:931: ConvergenceWarning: Liblinear failed to converge, increase the number of iterations.\n",
      "  \"the number of iterations.\", ConvergenceWarning)\n"
     ]
    },
    {
     "name": "stdout",
     "output_type": "stream",
     "text": [
      "Samples:1560\n",
      "0.96\n",
      "0.5316057205200195\n"
     ]
    },
    {
     "name": "stderr",
     "output_type": "stream",
     "text": [
      "c:\\users\\k33robin\\appdata\\local\\programs\\python\\python37\\lib\\site-packages\\sklearn\\svm\\base.py:931: ConvergenceWarning: Liblinear failed to converge, increase the number of iterations.\n",
      "  \"the number of iterations.\", ConvergenceWarning)\n"
     ]
    },
    {
     "name": "stdout",
     "output_type": "stream",
     "text": [
      "Samples:1570\n",
      "0.9675\n",
      "0.5136449337005615\n"
     ]
    },
    {
     "name": "stderr",
     "output_type": "stream",
     "text": [
      "c:\\users\\k33robin\\appdata\\local\\programs\\python\\python37\\lib\\site-packages\\sklearn\\svm\\base.py:931: ConvergenceWarning: Liblinear failed to converge, increase the number of iterations.\n",
      "  \"the number of iterations.\", ConvergenceWarning)\n"
     ]
    },
    {
     "name": "stdout",
     "output_type": "stream",
     "text": [
      "Samples:1580\n",
      "0.985\n",
      "0.5202181339263916\n"
     ]
    },
    {
     "name": "stderr",
     "output_type": "stream",
     "text": [
      "c:\\users\\k33robin\\appdata\\local\\programs\\python\\python37\\lib\\site-packages\\sklearn\\svm\\base.py:931: ConvergenceWarning: Liblinear failed to converge, increase the number of iterations.\n",
      "  \"the number of iterations.\", ConvergenceWarning)\n"
     ]
    },
    {
     "name": "stdout",
     "output_type": "stream",
     "text": [
      "Samples:1590\n",
      "0.995\n",
      "0.5373833179473877\n"
     ]
    },
    {
     "name": "stderr",
     "output_type": "stream",
     "text": [
      "c:\\users\\k33robin\\appdata\\local\\programs\\python\\python37\\lib\\site-packages\\sklearn\\svm\\base.py:931: ConvergenceWarning: Liblinear failed to converge, increase the number of iterations.\n",
      "  \"the number of iterations.\", ConvergenceWarning)\n"
     ]
    },
    {
     "data": {
      "text/plain": [
       "OrderedDict([(100, 0.5),\n",
       "             (110, 0.505),\n",
       "             (120, 0.5225),\n",
       "             (130, 0.505),\n",
       "             (140, 0.5175),\n",
       "             (150, 0.5075),\n",
       "             (160, 0.515),\n",
       "             (170, 0.4825),\n",
       "             (180, 0.54),\n",
       "             (190, 0.52),\n",
       "             (200, 0.5075),\n",
       "             (210, 0.5125),\n",
       "             (220, 0.485),\n",
       "             (230, 0.505),\n",
       "             (240, 0.5125),\n",
       "             (250, 0.525),\n",
       "             (260, 0.51),\n",
       "             (270, 0.495),\n",
       "             (280, 0.5075),\n",
       "             (290, 0.5025),\n",
       "             (300, 0.515),\n",
       "             (310, 0.495),\n",
       "             (320, 0.5025),\n",
       "             (330, 0.5025),\n",
       "             (340, 0.505),\n",
       "             (350, 0.5125),\n",
       "             (360, 0.5075),\n",
       "             (370, 0.5225),\n",
       "             (380, 0.51),\n",
       "             (390, 0.485),\n",
       "             (400, 0.515),\n",
       "             (410, 0.4925),\n",
       "             (420, 0.5),\n",
       "             (430, 0.49),\n",
       "             (440, 0.5125),\n",
       "             (450, 0.5075),\n",
       "             (460, 0.4575),\n",
       "             (470, 0.51),\n",
       "             (480, 0.4775),\n",
       "             (490, 0.4625),\n",
       "             (500, 0.505),\n",
       "             (510, 0.49),\n",
       "             (520, 0.51),\n",
       "             (530, 0.5125),\n",
       "             (540, 0.51),\n",
       "             (550, 0.5025),\n",
       "             (560, 0.5175),\n",
       "             (570, 0.51),\n",
       "             (580, 0.515),\n",
       "             (590, 0.495),\n",
       "             (600, 0.4925),\n",
       "             (610, 0.47),\n",
       "             (620, 0.4775),\n",
       "             (630, 0.4675),\n",
       "             (640, 0.525),\n",
       "             (650, 0.5125),\n",
       "             (660, 0.495),\n",
       "             (670, 0.4625),\n",
       "             (680, 0.5175),\n",
       "             (690, 0.5275),\n",
       "             (700, 0.5075),\n",
       "             (710, 0.4925),\n",
       "             (720, 0.5175),\n",
       "             (730, 0.5225),\n",
       "             (740, 0.5225),\n",
       "             (750, 0.52),\n",
       "             (760, 0.5125),\n",
       "             (770, 0.495),\n",
       "             (780, 0.4875),\n",
       "             (790, 0.4975),\n",
       "             (800, 0.4825),\n",
       "             (810, 0.535),\n",
       "             (820, 0.5175),\n",
       "             (830, 0.5375),\n",
       "             (840, 0.54),\n",
       "             (850, 0.505),\n",
       "             (860, 0.52),\n",
       "             (870, 0.5),\n",
       "             (880, 0.5275),\n",
       "             (890, 0.495),\n",
       "             (900, 0.495),\n",
       "             (910, 0.4975),\n",
       "             (920, 0.4875),\n",
       "             (930, 0.5175),\n",
       "             (940, 0.5225),\n",
       "             (950, 0.4875),\n",
       "             (960, 0.4775),\n",
       "             (970, 0.495),\n",
       "             (980, 0.4975),\n",
       "             (990, 0.4725),\n",
       "             (1000, 0.4825),\n",
       "             (1010, 0.51),\n",
       "             (1020, 0.4825),\n",
       "             (1030, 0.48),\n",
       "             (1040, 0.5),\n",
       "             (1050, 0.4675),\n",
       "             (1060, 0.4675),\n",
       "             (1070, 0.4625),\n",
       "             (1080, 0.4975),\n",
       "             (1090, 0.445),\n",
       "             (1100, 0.465),\n",
       "             (1110, 0.49),\n",
       "             (1120, 0.5),\n",
       "             (1130, 0.47),\n",
       "             (1140, 0.475),\n",
       "             (1150, 0.5),\n",
       "             (1160, 0.485),\n",
       "             (1170, 0.4875),\n",
       "             (1180, 0.505),\n",
       "             (1190, 0.4875),\n",
       "             (1200, 0.5025),\n",
       "             (1210, 0.5),\n",
       "             (1220, 0.505),\n",
       "             (1230, 0.535),\n",
       "             (1240, 0.5325),\n",
       "             (1250, 0.5875),\n",
       "             (1260, 0.5625),\n",
       "             (1270, 0.54),\n",
       "             (1280, 0.5675),\n",
       "             (1290, 0.5825),\n",
       "             (1300, 0.6175),\n",
       "             (1310, 0.6225),\n",
       "             (1320, 0.635),\n",
       "             (1330, 0.67),\n",
       "             (1340, 0.675),\n",
       "             (1350, 0.7025),\n",
       "             (1360, 0.6975),\n",
       "             (1370, 0.7275),\n",
       "             (1380, 0.73),\n",
       "             (1390, 0.7325),\n",
       "             (1400, 0.7425),\n",
       "             (1410, 0.745),\n",
       "             (1420, 0.7525),\n",
       "             (1430, 0.7775),\n",
       "             (1440, 0.805),\n",
       "             (1450, 0.8125),\n",
       "             (1460, 0.835),\n",
       "             (1470, 0.8425),\n",
       "             (1480, 0.85),\n",
       "             (1490, 0.8575),\n",
       "             (1500, 0.8675),\n",
       "             (1510, 0.9025),\n",
       "             (1520, 0.9175),\n",
       "             (1530, 0.93),\n",
       "             (1540, 0.9375),\n",
       "             (1550, 0.9525),\n",
       "             (1560, 0.96),\n",
       "             (1570, 0.9675),\n",
       "             (1580, 0.985),\n",
       "             (1590, 0.995),\n",
       "             (1600, 1.0)])"
      ]
     },
     "execution_count": 110,
     "metadata": {},
     "output_type": "execute_result"
    }
   ],
   "source": [
    "#Same as above calculations except new training data is picked randomly\n",
    "\n",
    "svc = LinearSVC(max_iter=10000)\n",
    "dtc = DecisionTreeClassifier()\n",
    "knc = KNeighborsClassifier(n_jobs=-1)\n",
    "\n",
    "\n",
    "K = 10\n",
    "\n",
    "random_q2_T = T.copy()\n",
    "random_q2_T_r = T_r.copy()\n",
    "test_data = test_data.copy()\n",
    "\n",
    "random_q2_results = OrderedDict()\n",
    "key=100\n",
    "while True:\n",
    "    svc.fit(random_q2_T.drop(['label'],axis=1),random_q2_T['label'])\n",
    "    dtc.fit(random_q2_T.drop(['label'],axis=1),random_q2_T['label'])\n",
    "    knc.fit(random_q2_T.drop(['label'],axis=1),random_q2_T['label'])\n",
    "\n",
    "    \n",
    "    start = time.time()\n",
    "\n",
    "    #Store the test predictions in a dictionary\n",
    "    random_test_predictions = {\n",
    "        #Predictions are mapped to 1 or -1 for positive and negative respectively for easy voting\n",
    "        'svc': list(map(lambda x: 1 if x=='pos' else -1 ,svc.predict(test_data.drop(['label'],axis=1)))),\n",
    "        'dtc': list(map(lambda x: 1 if x=='pos' else -1 ,dtc.predict(test_data.drop(['label'],axis=1)))),\n",
    "        'knc': list(map(lambda x: 1 if x=='pos' else -1 ,knc.predict(test_data.drop(['label'],axis=1))))\n",
    "    }\n",
    "    \n",
    "    #If the sum of a data points 3 predictions is >= 1 then majority voted positive, otherwise negative\n",
    "    random_test_predictions = list(map(lambda a, b, c: 'pos' if (a+b+c)>=1 else 'neg', random_test_predictions['svc'], random_test_predictions['dtc'], random_test_predictions['knc']))\n",
    "    \n",
    "    #This could be turned into a zipped filter\n",
    "    #Caclulates the number of corect predictions and devides by total for accuracy\n",
    "    c=0\n",
    "    for i, j in zip(test_data['label'], random_test_predictions):\n",
    "        if i==j:\n",
    "            c+=1\n",
    "    random_q2_results[key]=[c/len(test_data['label'])]\n",
    "    \n",
    "\n",
    "    if (len(random_q2_T_r)>0):\n",
    "        random_q2_T = pd.concat([random_q2_T,random_q2_T_r.head(K)], ignore_index = True)\n",
    "        random_q2_T_r = random_q2_T_r.iloc[K:]\n",
    "        \n",
    "        end = time.time()\n",
    "        print(\"Samples:\"+str(key))\n",
    "        print(random_q2_results[key])\n",
    "        print(end - start)\n",
    "\n",
    "        key+=K\n",
    "\n",
    "    else: break\n",
    "\n",
    "        \n",
    "random_q2_results"
   ]
  },
  {
   "cell_type": "markdown",
   "metadata": {},
   "source": [
    "## Results"
   ]
  },
  {
   "cell_type": "code",
   "execution_count": 119,
   "metadata": {
    "scrolled": true
   },
   "outputs": [
    {
     "data": {
      "image/png": "[encoded data removed]",
      "text/plain": [
       "<Figure size 432x288 with 1 Axes>"
      ]
     },
     "metadata": {
      "needs_background": "light"
     },
     "output_type": "display_data"
    }
   ],
   "source": [
    "#Create plots and save them\n",
    "\n",
    "q2_results_test = pd.concat([pd.DataFrame.from_dict(q2_results), pd.DataFrame.from_dict(random_q2_results)]).transpose()\n",
    "q2_results_test.columns = [\"QbC Sampling\",\"Random Sampling\"]\n",
    "\n",
    "plot = q2_results_test.plot.line(title='Linear SVM Classification Performance Using Query by Committee')\n",
    "plot.set_xlabel(\"Size of Training Dataset\")\n",
    "plot.set_ylabel(\"Average Test Accuracy\")\n",
    "\n",
    "#Display plot in Jupyter\n",
    "plot\n",
    "\n",
    "#Save plot\n",
    "fig = plot.get_figure()\n",
    "fig.savefig(\"Q2_ii.pdf\")"
   ]
  },
  {
   "cell_type": "code",
   "execution_count": null,
   "metadata": {},
   "outputs": [],
   "source": []
  }
 ],
 "metadata": {
  "kernelspec": {
   "display_name": "Python 3",
   "language": "python",
   "name": "python3"
  }
 },
 "nbformat": 4,
 "nbformat_minor": 2
}
